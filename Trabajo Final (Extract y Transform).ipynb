{
 "cells": [
  {
   "cell_type": "markdown",
   "id": "e4ef246b",
   "metadata": {},
   "source": [
    "# Analisis de departamentos en venta en CABA\n",
    "\n",
    "Determinaremos a partir del dataset obtenido en properati cual seria el precio segun cada barrio en CABA a partir de distintas variables."
   ]
  },
  {
   "cell_type": "markdown",
   "id": "33831fe3",
   "metadata": {},
   "source": [
    "### Librerias"
   ]
  },
  {
   "cell_type": "code",
   "execution_count": 53,
   "id": "7d346d16",
   "metadata": {},
   "outputs": [],
   "source": [
    "import pandas as pd\n",
    "import seaborn as sns\n",
    "import matplotlib.pyplot as plt\n",
    "import numpy as np"
   ]
  },
  {
   "cell_type": "markdown",
   "id": "9dce9e70",
   "metadata": {},
   "source": [
    "### Importacion y analisis preliminar"
   ]
  },
  {
   "cell_type": "code",
   "execution_count": 54,
   "id": "99412a3e",
   "metadata": {},
   "outputs": [
    {
     "data": {
      "text/html": [
       "<div>\n",
       "<style scoped>\n",
       "    .dataframe tbody tr th:only-of-type {\n",
       "        vertical-align: middle;\n",
       "    }\n",
       "\n",
       "    .dataframe tbody tr th {\n",
       "        vertical-align: top;\n",
       "    }\n",
       "\n",
       "    .dataframe thead th {\n",
       "        text-align: right;\n",
       "    }\n",
       "</style>\n",
       "<table border=\"1\" class=\"dataframe\">\n",
       "  <thead>\n",
       "    <tr style=\"text-align: right;\">\n",
       "      <th></th>\n",
       "      <th>id</th>\n",
       "      <th>ad_type</th>\n",
       "      <th>start_date</th>\n",
       "      <th>end_date</th>\n",
       "      <th>created_on</th>\n",
       "      <th>lat</th>\n",
       "      <th>lon</th>\n",
       "      <th>l1</th>\n",
       "      <th>l2</th>\n",
       "      <th>l3</th>\n",
       "      <th>...</th>\n",
       "      <th>bathrooms</th>\n",
       "      <th>surface_total</th>\n",
       "      <th>surface_covered</th>\n",
       "      <th>price</th>\n",
       "      <th>currency</th>\n",
       "      <th>price_period</th>\n",
       "      <th>title</th>\n",
       "      <th>description</th>\n",
       "      <th>property_type</th>\n",
       "      <th>operation_type</th>\n",
       "    </tr>\n",
       "  </thead>\n",
       "  <tbody>\n",
       "    <tr>\n",
       "      <th>0</th>\n",
       "      <td>DyVXfkpKygVBKuUk5olH+A==</td>\n",
       "      <td>Propiedad</td>\n",
       "      <td>2020-08-22</td>\n",
       "      <td>2020-09-03</td>\n",
       "      <td>2020-08-22</td>\n",
       "      <td>-34.407468</td>\n",
       "      <td>-58.957367</td>\n",
       "      <td>Argentina</td>\n",
       "      <td>Bs.As. G.B.A. Zona Norte</td>\n",
       "      <td>Pilar</td>\n",
       "      <td>...</td>\n",
       "      <td>NaN</td>\n",
       "      <td>133139.0</td>\n",
       "      <td>NaN</td>\n",
       "      <td>NaN</td>\n",
       "      <td>NaN</td>\n",
       "      <td>Mensual</td>\n",
       "      <td>VENTA - Lote Industrial 130.000m2 - Parque Ind...</td>\n",
       "      <td>Lote (Nro.50) mide 133.139 m2\\n&lt;br&gt;Valor: U$S ...</td>\n",
       "      <td>Lote</td>\n",
       "      <td>Venta</td>\n",
       "    </tr>\n",
       "    <tr>\n",
       "      <th>1</th>\n",
       "      <td>9naojilaMecJN4jlQiTkGg==</td>\n",
       "      <td>Propiedad</td>\n",
       "      <td>2020-08-22</td>\n",
       "      <td>2020-09-04</td>\n",
       "      <td>2020-08-22</td>\n",
       "      <td>-37.996039</td>\n",
       "      <td>-57.542509</td>\n",
       "      <td>Argentina</td>\n",
       "      <td>Buenos Aires Costa Atlántica</td>\n",
       "      <td>Mar del Plata</td>\n",
       "      <td>...</td>\n",
       "      <td>NaN</td>\n",
       "      <td>687.0</td>\n",
       "      <td>687.0</td>\n",
       "      <td>NaN</td>\n",
       "      <td>NaN</td>\n",
       "      <td>Mensual</td>\n",
       "      <td>Casa - Santa Cecilia</td>\n",
       "      <td>Conjunto edilicio de casa y departamentos en b...</td>\n",
       "      <td>Otro</td>\n",
       "      <td>Venta</td>\n",
       "    </tr>\n",
       "    <tr>\n",
       "      <th>2</th>\n",
       "      <td>tlCPRJPjoDEUzuuCelemAQ==</td>\n",
       "      <td>Propiedad</td>\n",
       "      <td>2020-08-22</td>\n",
       "      <td>2020-08-31</td>\n",
       "      <td>2020-08-22</td>\n",
       "      <td>-31.380187</td>\n",
       "      <td>-58.009182</td>\n",
       "      <td>Argentina</td>\n",
       "      <td>Entre Ríos</td>\n",
       "      <td>Concordia</td>\n",
       "      <td>...</td>\n",
       "      <td>1.0</td>\n",
       "      <td>80.0</td>\n",
       "      <td>80.0</td>\n",
       "      <td>NaN</td>\n",
       "      <td>NaN</td>\n",
       "      <td>Mensual</td>\n",
       "      <td>Casa - Concordia</td>\n",
       "      <td>Casa de un dormitorio, cocina, baño, living co...</td>\n",
       "      <td>Casa</td>\n",
       "      <td>Alquiler</td>\n",
       "    </tr>\n",
       "    <tr>\n",
       "      <th>3</th>\n",
       "      <td>Zw3b91glQUO3HNrM5fPYlQ==</td>\n",
       "      <td>Propiedad</td>\n",
       "      <td>2020-08-22</td>\n",
       "      <td>2020-09-04</td>\n",
       "      <td>2020-08-22</td>\n",
       "      <td>-27.494106</td>\n",
       "      <td>-55.123455</td>\n",
       "      <td>Argentina</td>\n",
       "      <td>Misiones</td>\n",
       "      <td>Oberá</td>\n",
       "      <td>...</td>\n",
       "      <td>1.0</td>\n",
       "      <td>NaN</td>\n",
       "      <td>NaN</td>\n",
       "      <td>NaN</td>\n",
       "      <td>NaN</td>\n",
       "      <td>Mensual</td>\n",
       "      <td>Terreno - Obera</td>\n",
       "      <td>IMPORTANTE PROPIEDAD EN VENTA EN OBERA MISIONE...</td>\n",
       "      <td>Lote</td>\n",
       "      <td>Venta</td>\n",
       "    </tr>\n",
       "    <tr>\n",
       "      <th>4</th>\n",
       "      <td>bsU81gm9JEgtZCbTYgvykg==</td>\n",
       "      <td>Propiedad</td>\n",
       "      <td>2020-08-22</td>\n",
       "      <td>2020-09-04</td>\n",
       "      <td>2020-08-22</td>\n",
       "      <td>-32.948856</td>\n",
       "      <td>-60.630464</td>\n",
       "      <td>Argentina</td>\n",
       "      <td>Santa Fe</td>\n",
       "      <td>Rosario</td>\n",
       "      <td>...</td>\n",
       "      <td>1.0</td>\n",
       "      <td>76.0</td>\n",
       "      <td>66.0</td>\n",
       "      <td>NaN</td>\n",
       "      <td>NaN</td>\n",
       "      <td>Mensual</td>\n",
       "      <td>Departamento - Rosario</td>\n",
       "      <td>PORTAL DE LOS MARINOS&lt;br&gt;Es un complejo de viv...</td>\n",
       "      <td>Departamento</td>\n",
       "      <td>Venta</td>\n",
       "    </tr>\n",
       "  </tbody>\n",
       "</table>\n",
       "<p>5 rows × 25 columns</p>\n",
       "</div>"
      ],
      "text/plain": [
       "                         id    ad_type  start_date    end_date  created_on  \\\n",
       "0  DyVXfkpKygVBKuUk5olH+A==  Propiedad  2020-08-22  2020-09-03  2020-08-22   \n",
       "1  9naojilaMecJN4jlQiTkGg==  Propiedad  2020-08-22  2020-09-04  2020-08-22   \n",
       "2  tlCPRJPjoDEUzuuCelemAQ==  Propiedad  2020-08-22  2020-08-31  2020-08-22   \n",
       "3  Zw3b91glQUO3HNrM5fPYlQ==  Propiedad  2020-08-22  2020-09-04  2020-08-22   \n",
       "4  bsU81gm9JEgtZCbTYgvykg==  Propiedad  2020-08-22  2020-09-04  2020-08-22   \n",
       "\n",
       "         lat        lon         l1                            l2  \\\n",
       "0 -34.407468 -58.957367  Argentina      Bs.As. G.B.A. Zona Norte   \n",
       "1 -37.996039 -57.542509  Argentina  Buenos Aires Costa Atlántica   \n",
       "2 -31.380187 -58.009182  Argentina                    Entre Ríos   \n",
       "3 -27.494106 -55.123455  Argentina                      Misiones   \n",
       "4 -32.948856 -60.630464  Argentina                      Santa Fe   \n",
       "\n",
       "              l3  ... bathrooms surface_total  surface_covered  price  \\\n",
       "0          Pilar  ...       NaN      133139.0              NaN    NaN   \n",
       "1  Mar del Plata  ...       NaN         687.0            687.0    NaN   \n",
       "2      Concordia  ...       1.0          80.0             80.0    NaN   \n",
       "3          Oberá  ...       1.0           NaN              NaN    NaN   \n",
       "4        Rosario  ...       1.0          76.0             66.0    NaN   \n",
       "\n",
       "   currency  price_period                                              title  \\\n",
       "0       NaN       Mensual  VENTA - Lote Industrial 130.000m2 - Parque Ind...   \n",
       "1       NaN       Mensual                               Casa - Santa Cecilia   \n",
       "2       NaN       Mensual                                   Casa - Concordia   \n",
       "3       NaN       Mensual                                    Terreno - Obera   \n",
       "4       NaN       Mensual                             Departamento - Rosario   \n",
       "\n",
       "                                         description  property_type  \\\n",
       "0  Lote (Nro.50) mide 133.139 m2\\n<br>Valor: U$S ...           Lote   \n",
       "1  Conjunto edilicio de casa y departamentos en b...           Otro   \n",
       "2  Casa de un dormitorio, cocina, baño, living co...           Casa   \n",
       "3  IMPORTANTE PROPIEDAD EN VENTA EN OBERA MISIONE...           Lote   \n",
       "4  PORTAL DE LOS MARINOS<br>Es un complejo de viv...   Departamento   \n",
       "\n",
       "  operation_type  \n",
       "0          Venta  \n",
       "1          Venta  \n",
       "2       Alquiler  \n",
       "3          Venta  \n",
       "4          Venta  \n",
       "\n",
       "[5 rows x 25 columns]"
      ]
     },
     "execution_count": 54,
     "metadata": {},
     "output_type": "execute_result"
    }
   ],
   "source": [
    "# importamos el dataset descargado, como pesa 1 GB lo tengo localmente\n",
    "data=pd.read_csv(r'C:\\Users\\Ariel\\Documents\\Ariel\\Datos para trabajo final\\ar_properties.csv')\n",
    "data.head()"
   ]
  },
  {
   "cell_type": "code",
   "execution_count": 55,
   "id": "48961c2f",
   "metadata": {},
   "outputs": [
    {
     "data": {
      "text/plain": [
       "Index(['id', 'ad_type', 'start_date', 'end_date', 'created_on', 'lat', 'lon',\n",
       "       'l1', 'l2', 'l3', 'l4', 'l5', 'l6', 'rooms', 'bedrooms', 'bathrooms',\n",
       "       'surface_total', 'surface_covered', 'price', 'currency', 'price_period',\n",
       "       'title', 'description', 'property_type', 'operation_type'],\n",
       "      dtype='object')"
      ]
     },
     "execution_count": 55,
     "metadata": {},
     "output_type": "execute_result"
    }
   ],
   "source": [
    "#vemos los nombres de las columnas\n",
    "data.columns"
   ]
  },
  {
   "cell_type": "code",
   "execution_count": 56,
   "id": "2745e083",
   "metadata": {},
   "outputs": [
    {
     "data": {
      "image/png": "[encoded data removed]",
      "text/plain": [
       "<Figure size 360x360 with 1 Axes>"
      ]
     },
     "metadata": {
      "needs_background": "light"
     },
     "output_type": "display_data"
    }
   ],
   "source": [
    "# vemos los tipos de operacion que se realizaron\n",
    "plt.figure(figsize=(5,5))\n",
    "           \n",
    "sns.countplot(data=data,x='operation_type')\n",
    "           \n",
    "plt.show()"
   ]
  },
  {
   "cell_type": "code",
   "execution_count": 57,
   "id": "aff3ace4",
   "metadata": {},
   "outputs": [
    {
     "data": {
      "text/plain": [
       "array(['Venta'], dtype=object)"
      ]
     },
     "execution_count": 57,
     "metadata": {},
     "output_type": "execute_result"
    }
   ],
   "source": [
    "#nos quedamos solamente con los valores de venta\n",
    "data=data.loc[data['operation_type']=='Venta', :].reset_index(drop=True)\n",
    "data['operation_type'].unique()"
   ]
  },
  {
   "cell_type": "code",
   "execution_count": 58,
   "id": "83cefd04",
   "metadata": {},
   "outputs": [
    {
     "data": {
      "text/plain": [
       "array(['Argentina', 'Uruguay', 'Estados Unidos', 'Brasil'], dtype=object)"
      ]
     },
     "execution_count": 58,
     "metadata": {},
     "output_type": "execute_result"
    }
   ],
   "source": [
    "#vemos los valores de los distintos paises\n",
    "data['l1'].unique()"
   ]
  },
  {
   "cell_type": "code",
   "execution_count": 59,
   "id": "22880969",
   "metadata": {},
   "outputs": [
    {
     "data": {
      "text/plain": [
       "array(['Argentina'], dtype=object)"
      ]
     },
     "execution_count": 59,
     "metadata": {},
     "output_type": "execute_result"
    }
   ],
   "source": [
    "# nos quedamos solamente con Argentina\n",
    "\n",
    "data=data.loc[data['l1']=='Argentina' , :]\n",
    "data['l1'].unique()"
   ]
  },
  {
   "cell_type": "code",
   "execution_count": 60,
   "id": "e6246264",
   "metadata": {},
   "outputs": [
    {
     "data": {
      "image/png": "[encoded data removed]",
      "text/plain": [
       "<Figure size 720x720 with 1 Axes>"
      ]
     },
     "metadata": {
      "needs_background": "light"
     },
     "output_type": "display_data"
    }
   ],
   "source": [
    "# vemos los valores de las distintas provincias\n",
    "plt.figure(figsize=(10,10))\n",
    "           \n",
    "sns.countplot(data=data,\n",
    "              y='l2',\n",
    "             order=data['l2'].value_counts().index)\n",
    "           \n",
    "plt.show()"
   ]
  },
  {
   "cell_type": "code",
   "execution_count": 61,
   "id": "075997b0",
   "metadata": {},
   "outputs": [
    {
     "data": {
      "text/plain": [
       "array(['Capital Federal'], dtype=object)"
      ]
     },
     "execution_count": 61,
     "metadata": {},
     "output_type": "execute_result"
    }
   ],
   "source": [
    "# nos quedamos solamente con los valores de Capital Federal\n",
    "data=data.loc[data['l2']=='Capital Federal',:]\n",
    "data['l2'].unique()"
   ]
  },
  {
   "cell_type": "code",
   "execution_count": 62,
   "id": "fff4baa7",
   "metadata": {},
   "outputs": [
    {
     "data": {
      "image/png": "[encoded data removed]",
      "text/plain": [
       "<Figure size 360x360 with 1 Axes>"
      ]
     },
     "metadata": {
      "needs_background": "light"
     },
     "output_type": "display_data"
    }
   ],
   "source": [
    "# vemos los distintos tipos de propiedades\n",
    "plt.figure(figsize=(5,5))\n",
    "           \n",
    "sns.countplot(data=data,\n",
    "              y='property_type',\n",
    "             order=data['property_type'].value_counts().index)\n",
    "           \n",
    "plt.show()"
   ]
  },
  {
   "cell_type": "code",
   "execution_count": 63,
   "id": "f07603db",
   "metadata": {},
   "outputs": [
    {
     "data": {
      "text/plain": [
       "array(['Departamento'], dtype=object)"
      ]
     },
     "execution_count": 63,
     "metadata": {},
     "output_type": "execute_result"
    }
   ],
   "source": [
    "# nos quedamos solamente con los dapartamentos para unificar el analisis y tener mayor cantidad de datos\n",
    "\n",
    "data=data.loc[ data['property_type']=='Departamento' , :]\n",
    "data['property_type'].unique()"
   ]
  },
  {
   "cell_type": "code",
   "execution_count": 64,
   "id": "df5716db",
   "metadata": {},
   "outputs": [
    {
     "data": {
      "image/png": "[encoded data removed]",
      "text/plain": [
       "<Figure size 360x360 with 1 Axes>"
      ]
     },
     "metadata": {
      "needs_background": "light"
     },
     "output_type": "display_data"
    }
   ],
   "source": [
    "#vemos la moneda con la cual se realizo el pago\n",
    "\n",
    "plt.figure(figsize=(5,5))\n",
    "           \n",
    "sns.countplot(data=data,\n",
    "              y='currency',\n",
    "             order=data['currency'].value_counts().index)\n",
    "           \n",
    "plt.show()"
   ]
  },
  {
   "cell_type": "code",
   "execution_count": 65,
   "id": "50ca8ef1",
   "metadata": {},
   "outputs": [
    {
     "data": {
      "text/plain": [
       "array(['USD'], dtype=object)"
      ]
     },
     "execution_count": 65,
     "metadata": {},
     "output_type": "execute_result"
    }
   ],
   "source": [
    "#nos quedamos solamnete con los valores de USD\n",
    "\n",
    "data=data.loc[data['currency']=='USD', : ]\n",
    "data['currency'].unique()"
   ]
  },
  {
   "cell_type": "code",
   "execution_count": 66,
   "id": "adcd9c54",
   "metadata": {},
   "outputs": [
    {
     "data": {
      "text/plain": [
       "58"
      ]
     },
     "execution_count": 66,
     "metadata": {},
     "output_type": "execute_result"
    }
   ],
   "source": [
    "#vemos la cantidad de barrios que estan en el dataset\n",
    "\n",
    "len(data['l3'].unique())\n",
    "\n",
    "# hay 10 barrios más del total de barrios de capital\n",
    "# vamos a analizar la estructura del dataset y volvemos con este caso"
   ]
  },
  {
   "cell_type": "markdown",
   "id": "7b52a7cf",
   "metadata": {},
   "source": [
    "### Analisis de la estructura del dataset"
   ]
  },
  {
   "cell_type": "code",
   "execution_count": 67,
   "id": "96a557e2",
   "metadata": {},
   "outputs": [
    {
     "name": "stdout",
     "output_type": "stream",
     "text": [
      "<class 'pandas.core.frame.DataFrame'>\n",
      "Int64Index: 131720 entries, 74 to 750816\n",
      "Data columns (total 25 columns):\n",
      " #   Column           Non-Null Count   Dtype  \n",
      "---  ------           --------------   -----  \n",
      " 0   id               131720 non-null  object \n",
      " 1   ad_type          131720 non-null  object \n",
      " 2   start_date       131720 non-null  object \n",
      " 3   end_date         131720 non-null  object \n",
      " 4   created_on       131720 non-null  object \n",
      " 5   lat              123428 non-null  float64\n",
      " 6   lon              123428 non-null  float64\n",
      " 7   l1               131720 non-null  object \n",
      " 8   l2               131720 non-null  object \n",
      " 9   l3               131209 non-null  object \n",
      " 10  l4               5914 non-null    object \n",
      " 11  l5               0 non-null       object \n",
      " 12  l6               0 non-null       float64\n",
      " 13  rooms            125620 non-null  float64\n",
      " 14  bedrooms         108655 non-null  float64\n",
      " 15  bathrooms        125765 non-null  float64\n",
      " 16  surface_total    89751 non-null   float64\n",
      " 17  surface_covered  90846 non-null   float64\n",
      " 18  price            131720 non-null  float64\n",
      " 19  currency         131720 non-null  object \n",
      " 20  price_period     62535 non-null   object \n",
      " 21  title            131720 non-null  object \n",
      " 22  description      131720 non-null  object \n",
      " 23  property_type    131720 non-null  object \n",
      " 24  operation_type   131720 non-null  object \n",
      "dtypes: float64(9), object(16)\n",
      "memory usage: 301.7 MB\n"
     ]
    }
   ],
   "source": [
    "data.info(memory_usage='deep')"
   ]
  },
  {
   "cell_type": "code",
   "execution_count": 68,
   "id": "2c7d035a",
   "metadata": {},
   "outputs": [
    {
     "name": "stdout",
     "output_type": "stream",
     "text": [
      "*************\n",
      "id\n",
      "U3qdJMKXnOJm0Y1tWpnnfg==    1\n",
      "fWPPCdNlkjl64J6Q3hIKcA==    1\n",
      "GZG4OybSfzV7tqQtwvOWkQ==    1\n",
      "QDqixBydViDZzk4JAvENLg==    1\n",
      "zGWJpX0BTwme00jJMTNTgw==    1\n",
      "                           ..\n",
      "TfrRsjdZOrNAxRI2CY2eXw==    1\n",
      "CVQeYYpxJDUUspKpO5LWSg==    1\n",
      "ZHf9cozLT5bL+qimUvWM7A==    1\n",
      "RRKGc7QyiWU4PinhvXlVcw==    1\n",
      "No3is+HhwUGlfgQfzsZbdg==    1\n",
      "Name: id, Length: 131720, dtype: int64\n",
      "----------------\n",
      "*************\n",
      "ad_type\n",
      "Propiedad    131720\n",
      "Name: ad_type, dtype: int64\n",
      "----------------\n",
      "*************\n",
      "start_date\n",
      "2020-10-02    2485\n",
      "2020-12-03    2278\n",
      "2020-11-04    1666\n",
      "2020-06-27    1544\n",
      "2020-07-22    1485\n",
      "              ... \n",
      "2020-12-07      38\n",
      "2021-05-09      37\n",
      "2020-12-26      34\n",
      "2021-01-02      33\n",
      "2020-12-25      29\n",
      "Name: start_date, Length: 361, dtype: int64\n",
      "----------------\n",
      "*************\n",
      "end_date\n",
      "9999-12-31    23222\n",
      "2021-06-05    10856\n",
      "2021-04-09     2656\n",
      "2021-06-08     2463\n",
      "2020-09-04     2160\n",
      "              ...  \n",
      "2020-06-14        5\n",
      "2020-05-31        4\n",
      "2020-06-21        2\n",
      "2020-05-27        2\n",
      "2020-05-26        2\n",
      "Name: end_date, Length: 447, dtype: int64\n",
      "----------------\n",
      "*************\n",
      "created_on\n",
      "2020-10-02    2485\n",
      "2020-12-03    2278\n",
      "2020-11-04    1666\n",
      "2020-06-27    1544\n",
      "2020-07-22    1485\n",
      "              ... \n",
      "2020-12-07      38\n",
      "2021-05-09      37\n",
      "2020-12-26      34\n",
      "2021-01-02      33\n",
      "2020-12-25      29\n",
      "Name: created_on, Length: 361, dtype: int64\n",
      "----------------\n",
      "*************\n",
      "lat\n",
      "-34.558944    348\n",
      "-34.579326    260\n",
      "-34.579528    174\n",
      "-34.568296    171\n",
      "-34.603810    163\n",
      "             ... \n",
      "-34.643044      1\n",
      "-34.581046      1\n",
      "-34.585834      1\n",
      "-34.609519      1\n",
      "-34.600052      1\n",
      "Name: lat, Length: 48438, dtype: int64\n",
      "----------------\n",
      "*************\n",
      "lon\n",
      "-58.475767    348\n",
      "-58.455819    260\n",
      "-58.482446    174\n",
      "-58.456264    171\n",
      "-58.417970    163\n",
      "             ... \n",
      "-58.432677      1\n",
      "-58.469704      1\n",
      "-58.434473      1\n",
      "-58.428930      1\n",
      "-58.393015      1\n",
      "Name: lon, Length: 48650, dtype: int64\n",
      "----------------\n",
      "*************\n",
      "l1\n",
      "Argentina    131720\n",
      "Name: l1, dtype: int64\n",
      "----------------\n",
      "*************\n",
      "l2\n",
      "Capital Federal    131720\n",
      "Name: l2, dtype: int64\n",
      "----------------\n",
      "*************\n",
      "l3\n",
      "Palermo                 20809\n",
      "Belgrano                17389\n",
      "Caballito                9042\n",
      "Recoleta                 8934\n",
      "Almagro                  6409\n",
      "Villa Urquiza            6097\n",
      "Villa Crespo             5936\n",
      "Barrio Norte             4369\n",
      "Nuñez                    4106\n",
      "Flores                   3600\n",
      "Balvanera                3348\n",
      "Colegiales               2899\n",
      "Puerto Madero            2706\n",
      "San Cristobal            2678\n",
      "San Telmo                2078\n",
      "Saavedra                 1934\n",
      "Villa Devoto             1743\n",
      "Villa del Parque         1734\n",
      "Boedo                    1596\n",
      "Retiro                   1589\n",
      "San Nicolás              1458\n",
      "Barracas                 1408\n",
      "Floresta                 1382\n",
      "Coghlan                  1290\n",
      "Monserrat                1268\n",
      "Liniers                  1096\n",
      "Parque Chacabuco         1041\n",
      "Villa Luro               1036\n",
      "Congreso                 1019\n",
      "Villa Pueyrredón          930\n",
      "Mataderos                 779\n",
      "Chacarita                 766\n",
      "Villa Lugano              634\n",
      "Villa Ortuzar             630\n",
      "Once                      621\n",
      "Paternal                  603\n",
      "Constitución              587\n",
      "Las Cañitas               583\n",
      "Parque Patricios          564\n",
      "Boca                      481\n",
      "Parque Centenario         445\n",
      "Villa General Mitre       439\n",
      "Abasto                    408\n",
      "Tribunales                383\n",
      "Monte Castro              371\n",
      "Centro / Microcentro      366\n",
      "Villa Santa Rita          364\n",
      "Velez Sarsfield           242\n",
      "Parque Chas               212\n",
      "Agronomía                 199\n",
      "Parque Avellaneda         170\n",
      "Pompeya                   160\n",
      "Versalles                 160\n",
      "Villa Real                 55\n",
      "Villa Soldati              47\n",
      "Villa Riachuelo            10\n",
      "Catalinas                   6\n",
      "Name: l3, dtype: int64\n",
      "----------------\n",
      "*************\n",
      "l4\n",
      "Palermo Hollywood    2654\n",
      "Palermo Chico        1767\n",
      "Palermo Soho         1223\n",
      "Palermo Viejo         270\n",
      "Name: l4, dtype: int64\n",
      "----------------\n",
      "*************\n",
      "l5\n",
      "Series([], Name: l5, dtype: int64)\n",
      "----------------\n",
      "*************\n",
      "l6\n",
      "Series([], Name: l6, dtype: int64)\n",
      "----------------\n",
      "*************\n",
      "rooms\n",
      "2.0     37982\n",
      "3.0     33581\n",
      "1.0     26726\n",
      "4.0     19843\n",
      "5.0      5044\n",
      "6.0      1406\n",
      "7.0       577\n",
      "8.0       222\n",
      "9.0       140\n",
      "10.0       49\n",
      "12.0       23\n",
      "11.0        7\n",
      "14.0        7\n",
      "15.0        4\n",
      "20.0        2\n",
      "22.0        2\n",
      "19.0        1\n",
      "35.0        1\n",
      "21.0        1\n",
      "30.0        1\n",
      "16.0        1\n",
      "Name: rooms, dtype: int64\n",
      "----------------\n",
      "*************\n",
      "bedrooms\n",
      " 1.0      44029\n",
      " 2.0      33166\n",
      " 3.0      20536\n",
      " 0.0       5023\n",
      " 4.0       4746\n",
      " 5.0        707\n",
      " 6.0        277\n",
      " 7.0         59\n",
      " 8.0         58\n",
      " 10.0        15\n",
      " 9.0          6\n",
      " 12.0         6\n",
      " 11.0         5\n",
      " 77.0         3\n",
      " 22.0         3\n",
      " 153.0        3\n",
      " 20.0         3\n",
      " 21.0         2\n",
      " 16.0         2\n",
      " 32.0         1\n",
      " 14.0         1\n",
      " 13.0         1\n",
      " 30.0         1\n",
      "-1.0          1\n",
      " 15.0         1\n",
      "Name: bedrooms, dtype: int64\n",
      "----------------\n",
      "*************\n",
      "bathrooms\n",
      "1.0     83223\n",
      "2.0     29382\n",
      "3.0      8959\n",
      "4.0      3011\n",
      "5.0      1018\n",
      "6.0       130\n",
      "7.0        29\n",
      "8.0         7\n",
      "9.0         4\n",
      "10.0        1\n",
      "18.0        1\n",
      "Name: bathrooms, dtype: int64\n",
      "----------------\n",
      "*************\n",
      "surface_total\n",
      "40.0       2008\n",
      "50.0       1926\n",
      "42.0       1798\n",
      "35.0       1727\n",
      "38.0       1725\n",
      "           ... \n",
      "1500.0        1\n",
      "62100.0       1\n",
      "636.0         1\n",
      "569.0         1\n",
      "3562.0        1\n",
      "Name: surface_total, Length: 659, dtype: int64\n",
      "----------------\n",
      "*************\n",
      "surface_covered\n",
      "40.0        2634\n",
      "35.0        2283\n",
      "42.0        2141\n",
      "50.0        1964\n",
      "45.0        1961\n",
      "            ... \n",
      "3372.0         1\n",
      "8695.0         1\n",
      "11.0           1\n",
      "436.0          1\n",
      "120000.0       1\n",
      "Name: surface_covered, Length: 564, dtype: int64\n",
      "----------------\n",
      "*************\n",
      "price\n",
      "110000.0    2107\n",
      "115000.0    2026\n",
      "120000.0    1942\n",
      "85000.0     1844\n",
      "125000.0    1813\n",
      "            ... \n",
      "8000.0         1\n",
      "248694.0       1\n",
      "102675.0       1\n",
      "126383.0       1\n",
      "586000.0       1\n",
      "Name: price, Length: 8349, dtype: int64\n",
      "----------------\n",
      "*************\n",
      "currency\n",
      "USD    131720\n",
      "Name: currency, dtype: int64\n",
      "----------------\n",
      "*************\n",
      "price_period\n",
      "Mensual    62535\n",
      "Name: price_period, dtype: int64\n",
      "----------------\n",
      "*************\n",
      "title\n",
      "Departamento - Belgrano                                                       1083\n",
      "Departamento - Palermo                                                        1073\n",
      "Departamento - Recoleta                                                       1052\n",
      "Departamento - Caballito                                                       840\n",
      "Departamento de 2 ambientes en Venta en Villa crespo                           563\n",
      "                                                                              ... \n",
      "venta 2 ambientes en recoleta - ideal inversor - oportunidad - con renta -       1\n",
      "Departamento en Venta en Villa luro, Capital federal U$S 107000                  1\n",
      "VENTA DEPARTAMENTO RECICLADO 4 AMBIENTES RECOLETA                                1\n",
      "VENTA DEPARTAMENTO 3 AMBIENTES PISO ALTO CON COCHERA BARRIO NORTE                1\n",
      "Impactante vista a los parques. 420 m2 con cochera                               1\n",
      "Name: title, Length: 69436, dtype: int64\n",
      "----------------\n",
      "*************\n",
      "description\n",
      "Pozo en Villa Crespo. Monoambientes y Versátiles unidades de 1 1/2 ,  2  y 4 amb. Anticipo 30 % y cuotas a convenir<br>Edificio de 10 pisos  con alto poder de reventa y cotización en el mercado<br>Detalles de categoría y calidad. <br>SUM en Terraza con espacio verde, Cocheras en PB,  Laundry y Parrilla<br>Excelente relación precio-calidad<br>Las medidas, superficies y proporciones son aproximadas <br>Las divisiones interiores, el mobiliario y la decoración , han sido ilustradas a fin de demostrar la espacialidad y no están incluidas en la unidad<br>                                                                                                                                                                                                                                                                                                                                                                                                                                                                                                                                                                                                                                                                                                                                                                                                                                                                                                                                                                                                                                                                                                                                                                                                                                                              98\n",
      "Casa Crespo es el primer edificio Premium que se construirà en Villa Crespo . Ameniries de Catergoría . Detalles arquitectonicos de gran calidad y una ubicación excepcional hacen una ecuación perfecta . Entrega Estimada 2020 - Se deja constancia que las caracteristicas, medidas, expensas y superficies  consignadas son aproximadas, sujetos a verificación y/o ajuste. El precio del inmueble puede ser modificado sin previo aviso. Fotos de carácter no contractual. Las unidades publicadas están sujetas a disponibilidad.                                                                                                                                                                                                                                                                                                                                                                                                                                                                                                                                                                                                                                                                                                                                                                                                                                                                                                                                                                                                                                                                                                                                                                                                                                                                                                  89\n",
      "Emprendimiento en construcción en Belgrano.<br>¡Se paga  el 100% en pesos! <br>Ideal para capitalizarse en U$D. <br>50% a la firma y el otro 50% en 12 cuotas mensuales y consecutivas ajustadas por la CAC. <br>Se escuchan  alguna otra  opción. de pago<br><br>•\\tPiso flotante melamínico de calidad en living y dormitorios .<br>•\\tCerámicos/porcelanato de calidad en cocinas y baños.<br>•\\tArtefactos y accesorios en baños de 1ra. calidad.<br>•\\tCocinas con mesadas y alzadas de granito<br>•\\tMuebles de cocina y alacenas de diseño europeo con anafes, hornos eléctricos y extractor. <br>•\\tAmueblamiento de cocina sobre y bajo mesada con herrajes de aluminio y alacenas con marco de aluminio anodizado mate y vidrio traslúcido.<br>•\\tEspacio para lavarropas (en cocina).<br>•\\tPlacares con marco y tiradores de aluminio mate con frentes, interiores y cajoneras enchapados terminación Wengue. <br>•\\tMesadas de mármol en baños.<br>•\\tCarpintería de aluminio anodizado de piso a techo.<br>•\\tPuerta (externa) de unidades en madera – Opcional blindada a presupuestar en el momento de la colocación<br>•\\tPuertas (internas) placa enchapadas en madera. <br>•\\tAire acondicionado frío-calor individual  en living (equipo Split).<br>•\\tAgua caliente central.<br>•\\tAscensores automáticos de frecuencia variable.<br>•\\tPortones automáticos, acceso a subsuelo con montacargas.<br>•\\tGrupo electrógeno para artefactos de uso común (asesores, montacargas, bombeo de agua)<br>•\\tCalefacción por piso radiante (distinto a loza radiante)<br>•\\tPortero eléctrico con opción individual a portero visor.<br>•\\tControl accesos, cerraduras y monitoreo.<br><br>                                                                                                                                  89\n",
      "Viva en un monoambiente con amenities de una torre de lujoUn proyecto que ofrecerá unidades de 1, 2 y 3 ambientes, tanto para viviendas, oficinas y consultorios, con amenities exclusivos ¡A precios increíbles! Desarrollo de altísima calidad constructiva que trascenderá en el tiempo. Las unidades serán flexibles ya que todas tienen la posibilidad de unirse para sumar ambientes.Cercano a tres estaciones de subte muchos medios de locomoción pública. Estará rodeado por nueva infraestructura y espacios verdes renovados. Dentro de los servicios que ofrecerá el proyecto, se destacará una piscina ubicada en PB, un gimnasio, vestuarios, laundry y espacios exclusivos para bicicletas, en donde contará de un taller mecánico ante cualquier percance. Dispondrá además de un sector de huerta urbana que funcionará con un criterio de comunidad para todos los usuarios y con un Coffee Lab equipado para experimentar las distintas maneras de elaborar café, todo esto ubicado en los espacios comunes del edificio que a su vez dispondrá de un jardín para brindar áreas de relax y bienestar. En sus salones de usos múltiples podrá realizar diferentes tipos de eventos y celebraciones.La planta baja contará con 3 locales comerciales que le brindarán programa a la calle, se complementarán con 2 subsuelos destinados al garaje. La zona cuenta con una amplia propuesta de transporte público, ofrece la unión, la cercanía y la conectividad. Está contenido por edificios históricos, centros de salud y universidades.                                                                                                                                                                                                                                                                            80\n",
      "1 Y 2 AMBIENTES ESTRAGICAMENTE UBICADOS . PRECIOS PRECIOS PROMOCIONALES LANZAMIENTO. Las características de las unidades serán de excelente nivel, con un diseño arquitectónico clásico y contemporáneo, apto para satisfacer las necesidades de  los clientes más exigentes. Productos vendibles y de alta calidad. Una excelente oportunidad para invertir en una de las mejores zonas de las  Ciudad de Buenos Aires. Terminación de los ambientes en enlucido de yeso en paredes, techos y cielorrasos suspendidos. Acabado final en pintura látex para interiores. Revestimientos de cerámicos en baños y sectores de cocina. Pisos flotantes en el área del estar, comedor y dormitorio. Cerámico de 1° marca en baños y cocinas. Zócalos de madera en estar comedor y dormitorio. Cerámicos en baños y áreas de cocina. Carpinterías de madera en alacenas y bajo mesada, revestidas en melamina. Puertas de acceso, interiores y de placares revestidas en roble nacional. Carpinterías exteriores en aluminio anodizado. Instalaciones eléctricas, incluyen telefonía y cablemódem. Instalaciones sanitarias, bacha de cocina de acero inoxidable (Johnson o similar), artefactos sanitarios (Ferrum o similar), griferías (FV o similar monocomando).  Se deja constancia que las caracteristicas, medidas, expensas y superficies  consignadas son aproximadas, sujetos a verificación y/o ajuste. El precio del inmueble puede ser modificado sin previo aviso. Fotos de carácter no contractual. Las unidades publicadas están sujetas a disponibilidad. Whatsapp:. 11- Amante Gabriel                                                                                                                                                                                                                                      80\n",
      "                                                                                                                                                                                                                                                                                                                                                                                                                                                                                                                                                                                                                                                                                                                                                                                                                                                                                                                                                                                                                                                                                                                                                                                                                                                                                                                                                                                                                                                                                                                                                                                                                                                                                                                                                                                                                                         ..\n",
      "Del Campo vende departamento en PB tipo Duplex (Sup. Total 189 m2) con cochera fija. <br>Planta baja: Living integrado con el comedor, un dormitorio en suite, cocina con cuarto y baño de servicio, amplio patio con vista a la calle. <br>2° piso cuenta con 3 dormitorios en suite (Uno de ellos cuenta con vista a la calle), todos los dormitorios tienen placard. <br><br>-\\tABL $ 4344<br>-\\tAgua $ 2000<br><br>Zona: El edificio se encuentra a una cuadra del Cementerio de Recoleta, a una cuadra de Avenida Callao, cercanía con Plaza San Martín de Tours, Avenida Alvear, Consulado de España, Correo Argentino, y Colegio de Escribanos de la Ciudad de Buenos Aires. Zona con amplia varidad de comercios, entre ellos abundan locales gastronómicos. <br>                                                                                                                                                                                                                                                                                                                                                                                                                                                                                                                                                                                                                                                                                                                                                                                                                                                                                                                                                                                                                                                                 1\n",
      "Departamento de cinco ambientes totalmente reciclado a nuevo hace dos años.<br>Edificio en torre. Piso alto con excelente vista abierta y mucha luz desde todos los ambientes.<br>Hall de recepción- Living comedor en L con doble balcón francés hacia el frente– el cuarto dormitorio actualmente integrado al living – tres dormitorios con placares – un toilette con ducha y baño completo – cocina muy amplia con alto y bajo mesada y espacio para comedor diario- lavadero independiente. Doble circulación.<br>Todo exterior.<br>Todos los ambientes con pisos de parquet recientemente hidrolaqueados.<br>Aires acondicionados en todos los ambientes y estufa tiro balanceado en living comedor.<br>Expensas: $10.100<br>Seguridad en el edificio.<br>Edificio muy bien mantenido con tres ascensores.<br>Son 17 pisos con 4 departamentos por piso.<br>Muy buena ubicación: en zona tranquila y muy cercano a centro comercial de Belgrano y a 4 cuadras de Est. Belgrano R.<br><br>Las medidas son aproximadas y al solo efecto orientativo. Las medidas reales surgirán del titulo de propiedad respectivo. CUCICBA 6892 / CMCPSI 6284                                                                                                                                                                                                                                                                                                                                                                                                                                                                                                                                                                                                                                                                                      1\n",
      "Corredor Responsable: Niceto Propiedades S.A. JOSE DAVID WINER - CPI 6346Contacto: Nancy Bas - MLS ID # 421041-82Duplex Venta 6 Amb Balcon Terraza con Parrilla , Family, Dependencia ,Cochera .<br><br>Piso 10 :<br>Hall de ingreso privado - Doble Ingreso (principal y de servicio) .<br>Living Comedor apaisado horizontal con salida al balcón terraza con amplia parrilla . <br>Toilette de Recepcion.<br>Comedor Diario independiente de gran dimension.<br>Family o Playroom .<br>Cocina Muy Amplia.<br>Lavadero independiente.<br>Dependencia de Servicio con Baño Completo.<br>Todos los ambientes con muy buena  luz natural.<br>Piso 11:<br>Los 4 dormitorios de muy buenas dimensiones en suite. Todos muy luminosos.<br>El dormitorio principal tiene vestidor,  baño en suite compartimentado , ventanal con  salida a balcón corrido.<br>Segundo y Tercer dormitorios con vestidor y baño en suite.<br>Cuarto Dormitorio con Placards y baño en suite.<br>Una cochera fija y cubierta. <br>Baulera Doble.<br>Valor Expensas Agosto 2020 $41.000<br><br><br><br> \\n\\n Comprá la casa que querés! No la que podés. Accedé a un préstamo por hasta el 30% del valor de esta propiedad. Simulá tu cuota en Lendar                                                                                                                                                                                                                                                                                                                                                                                                                                                                                                                                                                                                             1\n",
      "Departamento en Venta en Construcción\\n<br>Entrega mediados de 2021.\\n<br>4Piso Red (Contrafente)\\n<br>Semipiso de 4 ambientes.\\n<br>Hall de recepción - Living comedor con salida a balcón al contrafrente 7,50 x 1,20 -toilette de recepción - Cocina y lavadero independiente- dormitorio principal en suite - otros dos dormitorios con un baño completo.\\n<br>Cocheras cubiertas: USD 48.000 \\n<br>Bauleras: $5.800\\n<br>\\n<br> Edificio entre medianeras desarrollado en 11 plantas.\\n<br> 1 Subsuelo, 10 cocheras con acceso vehicular por montavehículos hidráulico.\\n<br> Sector de Bauleras.\\n<br> Planta baja con Hall de espera mas 10 cocheras.\\n<br> 9 plantas con 18 semipisos\\n<br> En Piso 10 Gimnasio equipado, Sauna, Expansión, Toilette. \\n<br> Piso 11o Sector Juegos niños, Sector parrilla, Sector Solárium. Vivienda del Encargado.\\n<br>\\n<br>Del los Departamentos\\n<br> Carpinterías con perfilaría de aluminio anodizado tipo Aluar línea A40 o similar con DVH.\\n<br> Sistema de calefacción central por piso radiante.\\n<br> Provisión de cañerías de cobre para aire acondicionado tipo Split, sin provisión de equipos.\\n<br> Provisión de suministro de agua caliente central.\\n<br> Cañerias para suministro de agua fría y caliente aquasystem o similar\\n<br> Solados con porcelanato simil madera 1ra calidad en todos los ambientes incluido pallier.\\n<br> Amoblamiento de cocina.\\n<br> Mesada de cocina en mármol con bacha de acero inoxidable.\\n<br> Griferías monocomando FV / DECA PIAZZA.\\n<br> Anafe eléctrico\\n<br> Horno eléctrico\\n<br> Baños con mesadas de mármol y revestimiento cerámicos.\\n<br> Artefactos sanitarios Ferrum.\\n<br> Instalación eléctrica con disyuntor diferencial y termomagnetica.\\n<br> Herrajes de 1ra calidad.\\n<br> Frentes de placard sin interiores.     1\n",
      "Piso de 285mts, en la mejor zona de Belgrano.<br><br>Consta de 5 dormitorios, de los cuales 3 de ellos son en suite y un baño compartimentado para los 2 dormitorios restantes. Suite principal con vestidor y baño completo con hidromasaje. Amplio living comedor en L con frente a la calle Arribeños.<br>Cocina de gran tamaño con doble circulación, lavadero y dependencia de servicio. Toilette de recepción.<br><br>Piso completo con vista al frente y al contrafrente, totalmente externo y luminoso.<br><br>Pisos de porchelanato, puertas blindadas.<br><br>El edificio cuenta con pileta, quincho, gim, salon de reuniones y seguridad 24 hs.<br><br>Tres cocheras fijas y espaciosas<br><br>EAP3422281<br><br>Ezequiel<br>Grow personal Broker                                                                                                                                                                                                                                                                                                                                                                                                                                                                                                                                                                                                                                                                                                                                                                                                                                                                                                                                                                                                                                                                              1\n",
      "Name: description, Length: 100829, dtype: int64\n",
      "----------------\n",
      "*************\n",
      "property_type\n",
      "Departamento    131720\n",
      "Name: property_type, dtype: int64\n",
      "----------------\n",
      "*************\n",
      "operation_type\n",
      "Venta    131720\n",
      "Name: operation_type, dtype: int64\n",
      "----------------\n"
     ]
    }
   ],
   "source": [
    "# vamos a empezar a ver que columnas podemos eliminar\n",
    "\n",
    "for i in data.columns:\n",
    "    print('*************')\n",
    "    print(i)\n",
    "    print(data[i].value_counts())\n",
    "    print('----------------')"
   ]
  },
  {
   "cell_type": "code",
   "execution_count": 69,
   "id": "c020d979",
   "metadata": {},
   "outputs": [
    {
     "data": {
      "text/plain": [
       "Index(['id', 'ad_type', 'start_date', 'end_date', 'created_on', 'lat', 'lon',\n",
       "       'l1', 'l2', 'l3', 'l4', 'l5', 'l6', 'rooms', 'bedrooms', 'bathrooms',\n",
       "       'surface_total', 'surface_covered', 'price', 'currency', 'price_period',\n",
       "       'title', 'description', 'property_type', 'operation_type'],\n",
       "      dtype='object')"
      ]
     },
     "execution_count": 69,
     "metadata": {},
     "output_type": "execute_result"
    }
   ],
   "source": [
    "data.columns"
   ]
  },
  {
   "cell_type": "code",
   "execution_count": 70,
   "id": "4b23c5cb",
   "metadata": {},
   "outputs": [],
   "source": [
    "# elegimos las columnas con las que nos vamos a quedar\n",
    "\n",
    "data_limpia=data[['created_on','lat', 'lon','l3','rooms',\n",
    "                  'bedrooms', 'bathrooms',\n",
    "                  'surface_total', 'surface_covered', 'price',\n",
    "                  'title', 'description',]]"
   ]
  },
  {
   "cell_type": "code",
   "execution_count": 71,
   "id": "23a2799d",
   "metadata": {},
   "outputs": [
    {
     "data": {
      "text/html": [
       "<div>\n",
       "<style scoped>\n",
       "    .dataframe tbody tr th:only-of-type {\n",
       "        vertical-align: middle;\n",
       "    }\n",
       "\n",
       "    .dataframe tbody tr th {\n",
       "        vertical-align: top;\n",
       "    }\n",
       "\n",
       "    .dataframe thead th {\n",
       "        text-align: right;\n",
       "    }\n",
       "</style>\n",
       "<table border=\"1\" class=\"dataframe\">\n",
       "  <thead>\n",
       "    <tr style=\"text-align: right;\">\n",
       "      <th></th>\n",
       "      <th>created_on</th>\n",
       "      <th>lat</th>\n",
       "      <th>lon</th>\n",
       "      <th>l3</th>\n",
       "      <th>rooms</th>\n",
       "      <th>bedrooms</th>\n",
       "      <th>bathrooms</th>\n",
       "      <th>surface_total</th>\n",
       "      <th>surface_covered</th>\n",
       "      <th>price</th>\n",
       "      <th>title</th>\n",
       "      <th>description</th>\n",
       "    </tr>\n",
       "  </thead>\n",
       "  <tbody>\n",
       "    <tr>\n",
       "      <th>0</th>\n",
       "      <td>2020-08-22</td>\n",
       "      <td>-34.600004</td>\n",
       "      <td>-58.417191</td>\n",
       "      <td>Almagro</td>\n",
       "      <td>1.0</td>\n",
       "      <td>NaN</td>\n",
       "      <td>1.0</td>\n",
       "      <td>38.0</td>\n",
       "      <td>31.0</td>\n",
       "      <td>110000.0</td>\n",
       "      <td>Monoambiente c/Cochera Fija Cubierta. Edif c/P...</td>\n",
       "      <td>Monoambiente de 38m² en muy buen estado con Am...</td>\n",
       "    </tr>\n",
       "    <tr>\n",
       "      <th>1</th>\n",
       "      <td>2020-08-22</td>\n",
       "      <td>-34.581699</td>\n",
       "      <td>-58.433547</td>\n",
       "      <td>Palermo</td>\n",
       "      <td>1.0</td>\n",
       "      <td>NaN</td>\n",
       "      <td>1.0</td>\n",
       "      <td>35.0</td>\n",
       "      <td>30.0</td>\n",
       "      <td>105000.0</td>\n",
       "      <td>Oportunidad!!!!Palermo Hollywood Monoamb amobl...</td>\n",
       "      <td>RETASADO Venta Palermo Niceto Vega y Bonpland ...</td>\n",
       "    </tr>\n",
       "    <tr>\n",
       "      <th>2</th>\n",
       "      <td>2020-08-22</td>\n",
       "      <td>-34.595044</td>\n",
       "      <td>-58.442538</td>\n",
       "      <td>Palermo</td>\n",
       "      <td>2.0</td>\n",
       "      <td>NaN</td>\n",
       "      <td>1.0</td>\n",
       "      <td>51.0</td>\n",
       "      <td>46.0</td>\n",
       "      <td>150000.0</td>\n",
       "      <td>2 AMBIENTES CON COCHERA Y PARRILLA EN VILLA CR...</td>\n",
       "      <td>CONTACTO: 11- (LLAMADOS O WHATSAPP)&lt;br&gt;&lt;br&gt;EXC...</td>\n",
       "    </tr>\n",
       "    <tr>\n",
       "      <th>3</th>\n",
       "      <td>2020-08-22</td>\n",
       "      <td>-34.582549</td>\n",
       "      <td>-58.417350</td>\n",
       "      <td>Palermo</td>\n",
       "      <td>2.0</td>\n",
       "      <td>NaN</td>\n",
       "      <td>1.0</td>\n",
       "      <td>53.0</td>\n",
       "      <td>53.0</td>\n",
       "      <td>136500.0</td>\n",
       "      <td>2 AMB EN PALERMO</td>\n",
       "      <td>2 AMBIENTES CON 2 BALCÓNES PISO 8&lt;br&gt;&lt;br&gt;Inmej...</td>\n",
       "    </tr>\n",
       "    <tr>\n",
       "      <th>4</th>\n",
       "      <td>2020-08-22</td>\n",
       "      <td>-34.578497</td>\n",
       "      <td>-58.424945</td>\n",
       "      <td>Palermo</td>\n",
       "      <td>1.0</td>\n",
       "      <td>NaN</td>\n",
       "      <td>1.0</td>\n",
       "      <td>30.0</td>\n",
       "      <td>30.0</td>\n",
       "      <td>139000.0</td>\n",
       "      <td>Oportunidad Excelente Mono Amueblado en Palerm...</td>\n",
       "      <td>Espectacular Departamento tipo estudio en TORR...</td>\n",
       "    </tr>\n",
       "    <tr>\n",
       "      <th>...</th>\n",
       "      <td>...</td>\n",
       "      <td>...</td>\n",
       "      <td>...</td>\n",
       "      <td>...</td>\n",
       "      <td>...</td>\n",
       "      <td>...</td>\n",
       "      <td>...</td>\n",
       "      <td>...</td>\n",
       "      <td>...</td>\n",
       "      <td>...</td>\n",
       "      <td>...</td>\n",
       "      <td>...</td>\n",
       "    </tr>\n",
       "    <tr>\n",
       "      <th>89746</th>\n",
       "      <td>2020-12-04</td>\n",
       "      <td>-34.591479</td>\n",
       "      <td>-58.383174</td>\n",
       "      <td>Recoleta</td>\n",
       "      <td>8.0</td>\n",
       "      <td>4.0</td>\n",
       "      <td>4.0</td>\n",
       "      <td>387.0</td>\n",
       "      <td>357.0</td>\n",
       "      <td>1500000.0</td>\n",
       "      <td>Excelente Piso en Avda. Alvear y Libertad Plaz...</td>\n",
       "      <td>Excelente Piso de gran categoría en una de las...</td>\n",
       "    </tr>\n",
       "    <tr>\n",
       "      <th>89747</th>\n",
       "      <td>2020-12-04</td>\n",
       "      <td>-34.585810</td>\n",
       "      <td>-58.405548</td>\n",
       "      <td>Barrio Norte</td>\n",
       "      <td>5.0</td>\n",
       "      <td>4.0</td>\n",
       "      <td>2.0</td>\n",
       "      <td>247.0</td>\n",
       "      <td>NaN</td>\n",
       "      <td>770000.0</td>\n",
       "      <td>VENTA DEPARTAMENTO DUPLEX - TOTALMENTE REFACCI...</td>\n",
       "      <td>DEPARTAMENTO IMPECABLE!!! - TOTALMENTE REFACCI...</td>\n",
       "    </tr>\n",
       "    <tr>\n",
       "      <th>89748</th>\n",
       "      <td>2020-12-04</td>\n",
       "      <td>-34.600052</td>\n",
       "      <td>-58.393015</td>\n",
       "      <td>Barrio Norte</td>\n",
       "      <td>5.0</td>\n",
       "      <td>4.0</td>\n",
       "      <td>1.0</td>\n",
       "      <td>110.0</td>\n",
       "      <td>95.0</td>\n",
       "      <td>318000.0</td>\n",
       "      <td>Departamento - P.Las Heras</td>\n",
       "      <td>Excelente . 3 dormitorios con placards + depen...</td>\n",
       "    </tr>\n",
       "    <tr>\n",
       "      <th>89749</th>\n",
       "      <td>2020-12-04</td>\n",
       "      <td>-34.573074</td>\n",
       "      <td>-58.419353</td>\n",
       "      <td>Palermo</td>\n",
       "      <td>8.0</td>\n",
       "      <td>5.0</td>\n",
       "      <td>3.0</td>\n",
       "      <td>419.0</td>\n",
       "      <td>375.0</td>\n",
       "      <td>1350000.0</td>\n",
       "      <td>Impactante vista a los parques. 420 m2 con coc...</td>\n",
       "      <td>Piso de 419 m2 en un emblemático edificio mode...</td>\n",
       "    </tr>\n",
       "    <tr>\n",
       "      <th>89750</th>\n",
       "      <td>2020-12-04</td>\n",
       "      <td>-34.563411</td>\n",
       "      <td>-58.445656</td>\n",
       "      <td>Belgrano</td>\n",
       "      <td>6.0</td>\n",
       "      <td>5.0</td>\n",
       "      <td>4.0</td>\n",
       "      <td>285.0</td>\n",
       "      <td>270.0</td>\n",
       "      <td>1400000.0</td>\n",
       "      <td>Departamento - Belgrano</td>\n",
       "      <td>Piso de 285mts, en la mejor zona de Belgrano.&lt;...</td>\n",
       "    </tr>\n",
       "  </tbody>\n",
       "</table>\n",
       "<p>89751 rows × 12 columns</p>\n",
       "</div>"
      ],
      "text/plain": [
       "       created_on        lat        lon            l3  rooms  bedrooms  \\\n",
       "0      2020-08-22 -34.600004 -58.417191       Almagro    1.0       NaN   \n",
       "1      2020-08-22 -34.581699 -58.433547       Palermo    1.0       NaN   \n",
       "2      2020-08-22 -34.595044 -58.442538       Palermo    2.0       NaN   \n",
       "3      2020-08-22 -34.582549 -58.417350       Palermo    2.0       NaN   \n",
       "4      2020-08-22 -34.578497 -58.424945       Palermo    1.0       NaN   \n",
       "...           ...        ...        ...           ...    ...       ...   \n",
       "89746  2020-12-04 -34.591479 -58.383174      Recoleta    8.0       4.0   \n",
       "89747  2020-12-04 -34.585810 -58.405548  Barrio Norte    5.0       4.0   \n",
       "89748  2020-12-04 -34.600052 -58.393015  Barrio Norte    5.0       4.0   \n",
       "89749  2020-12-04 -34.573074 -58.419353       Palermo    8.0       5.0   \n",
       "89750  2020-12-04 -34.563411 -58.445656      Belgrano    6.0       5.0   \n",
       "\n",
       "       bathrooms  surface_total  surface_covered      price  \\\n",
       "0            1.0           38.0             31.0   110000.0   \n",
       "1            1.0           35.0             30.0   105000.0   \n",
       "2            1.0           51.0             46.0   150000.0   \n",
       "3            1.0           53.0             53.0   136500.0   \n",
       "4            1.0           30.0             30.0   139000.0   \n",
       "...          ...            ...              ...        ...   \n",
       "89746        4.0          387.0            357.0  1500000.0   \n",
       "89747        2.0          247.0              NaN   770000.0   \n",
       "89748        1.0          110.0             95.0   318000.0   \n",
       "89749        3.0          419.0            375.0  1350000.0   \n",
       "89750        4.0          285.0            270.0  1400000.0   \n",
       "\n",
       "                                                   title  \\\n",
       "0      Monoambiente c/Cochera Fija Cubierta. Edif c/P...   \n",
       "1      Oportunidad!!!!Palermo Hollywood Monoamb amobl...   \n",
       "2      2 AMBIENTES CON COCHERA Y PARRILLA EN VILLA CR...   \n",
       "3                                       2 AMB EN PALERMO   \n",
       "4      Oportunidad Excelente Mono Amueblado en Palerm...   \n",
       "...                                                  ...   \n",
       "89746  Excelente Piso en Avda. Alvear y Libertad Plaz...   \n",
       "89747  VENTA DEPARTAMENTO DUPLEX - TOTALMENTE REFACCI...   \n",
       "89748                         Departamento - P.Las Heras   \n",
       "89749  Impactante vista a los parques. 420 m2 con coc...   \n",
       "89750                            Departamento - Belgrano   \n",
       "\n",
       "                                             description  \n",
       "0      Monoambiente de 38m² en muy buen estado con Am...  \n",
       "1      RETASADO Venta Palermo Niceto Vega y Bonpland ...  \n",
       "2      CONTACTO: 11- (LLAMADOS O WHATSAPP)<br><br>EXC...  \n",
       "3      2 AMBIENTES CON 2 BALCÓNES PISO 8<br><br>Inmej...  \n",
       "4      Espectacular Departamento tipo estudio en TORR...  \n",
       "...                                                  ...  \n",
       "89746  Excelente Piso de gran categoría en una de las...  \n",
       "89747  DEPARTAMENTO IMPECABLE!!! - TOTALMENTE REFACCI...  \n",
       "89748  Excelente . 3 dormitorios con placards + depen...  \n",
       "89749  Piso de 419 m2 en un emblemático edificio mode...  \n",
       "89750  Piso de 285mts, en la mejor zona de Belgrano.<...  \n",
       "\n",
       "[89751 rows x 12 columns]"
      ]
     },
     "execution_count": 71,
     "metadata": {},
     "output_type": "execute_result"
    }
   ],
   "source": [
    "#vemos los valores nulos y nos quedamos solamente con los valores que no lo son\n",
    "data_limpia=data_limpia.loc[~data_limpia['surface_total'].isnull(), :].reset_index(drop=True)\n",
    "data_limpia"
   ]
  },
  {
   "cell_type": "code",
   "execution_count": 72,
   "id": "5b95534a",
   "metadata": {},
   "outputs": [
    {
     "data": {
      "text/plain": [
       "2021    62403\n",
       "2020    46095\n",
       "9999    23222\n",
       "Name: 0, dtype: int64"
      ]
     },
     "execution_count": 72,
     "metadata": {},
     "output_type": "execute_result"
    }
   ],
   "source": [
    "# vemos la cantidad de propiedades que faltan vender\n",
    "pd.DataFrame([i.split('-')[0] for i in data['end_date']])[0].value_counts()"
   ]
  },
  {
   "cell_type": "code",
   "execution_count": 73,
   "id": "4f87e846",
   "metadata": {},
   "outputs": [
    {
     "data": {
      "text/plain": [
       "2020    58724\n",
       "2021    31027\n",
       "Name: created_on, dtype: int64"
      ]
     },
     "execution_count": 73,
     "metadata": {},
     "output_type": "execute_result"
    }
   ],
   "source": [
    "pd.to_datetime(data_limpia['created_on']).dt.year.value_counts()"
   ]
  },
  {
   "cell_type": "markdown",
   "id": "d0325cfe",
   "metadata": {},
   "source": [
    "### Analisis de valores nulos"
   ]
  },
  {
   "cell_type": "code",
   "execution_count": 74,
   "id": "383c4e52",
   "metadata": {},
   "outputs": [],
   "source": [
    "#acomodamos el nombre de las columnas\n",
    "\n",
    "data_limpia.columns=['creacion_registro','lat', 'lon', 'neighborhood', 'rooms', 'bedrooms', 'bathrooms', 'surface_total',\n",
    "       'surface_covered', 'price', 'title', 'description']"
   ]
  },
  {
   "cell_type": "code",
   "execution_count": 75,
   "id": "334ffc78",
   "metadata": {},
   "outputs": [
    {
     "name": "stdout",
     "output_type": "stream",
     "text": [
      "<class 'pandas.core.frame.DataFrame'>\n",
      "RangeIndex: 89751 entries, 0 to 89750\n",
      "Data columns (total 12 columns):\n",
      " #   Column             Non-Null Count  Dtype  \n",
      "---  ------             --------------  -----  \n",
      " 0   creacion_registro  89751 non-null  object \n",
      " 1   lat                83933 non-null  float64\n",
      " 2   lon                83933 non-null  float64\n",
      " 3   neighborhood       89371 non-null  object \n",
      " 4   rooms              87384 non-null  float64\n",
      " 5   bedrooms           72953 non-null  float64\n",
      " 6   bathrooms          88300 non-null  float64\n",
      " 7   surface_total      89751 non-null  float64\n",
      " 8   surface_covered    87242 non-null  float64\n",
      " 9   price              89751 non-null  float64\n",
      " 10  title              89751 non-null  object \n",
      " 11  description        89751 non-null  object \n",
      "dtypes: float64(8), object(4)\n",
      "memory usage: 8.2+ MB\n"
     ]
    }
   ],
   "source": [
    "#vemos nuevamente la estructura del dataset\n",
    "\n",
    "data_limpia.info()"
   ]
  },
  {
   "cell_type": "code",
   "execution_count": 76,
   "id": "f3508d86",
   "metadata": {},
   "outputs": [],
   "source": [
    "# eliminamos los valores nulos de latitud y longitud\n",
    "\n",
    "data_limpia=data_limpia.loc[(~data_limpia['lat'].isnull()) | (~data_limpia['lon'].isnull()) , :]"
   ]
  },
  {
   "cell_type": "code",
   "execution_count": 77,
   "id": "add72e8e",
   "metadata": {},
   "outputs": [],
   "source": [
    "#eliinamos los valores nulos de barrios\n",
    "data_limpia=data_limpia.loc[(~data_limpia['neighborhood'].isnull()) , :]"
   ]
  },
  {
   "cell_type": "code",
   "execution_count": 78,
   "id": "e37239c6",
   "metadata": {},
   "outputs": [],
   "source": [
    "# para los bedrooms por lo menos debe tener 1, en caso de ser un monoambiente, idem para la situacion de los baños\n",
    "data_limpia.loc[(data_limpia['rooms'].isnull()) , 'rooms']=1\n",
    "data_limpia.loc[(data_limpia['bedrooms'].isnull()) , 'bedrooms']=1\n",
    "data_limpia.loc[(data_limpia['bathrooms'].isnull()) , 'bathrooms']=1"
   ]
  },
  {
   "cell_type": "code",
   "execution_count": 79,
   "id": "aad55206",
   "metadata": {},
   "outputs": [
    {
     "data": {
      "text/plain": [
       "423"
      ]
     },
     "execution_count": 79,
     "metadata": {},
     "output_type": "execute_result"
    }
   ],
   "source": [
    "#vamos a analizar los valores de la superficie\n",
    "\n",
    "(data_limpia['surface_covered']>data_limpia['surface_total']).sum()\n",
    "\n",
    "# podemos ver que hay 259 valores donde la superficie es mayor a la superficie total, vamos a acomodarlos\n",
    "\n"
   ]
  },
  {
   "cell_type": "code",
   "execution_count": 80,
   "id": "87010e91",
   "metadata": {},
   "outputs": [],
   "source": [
    "#acomodamos los valores de superficie para aquellos casos que la superfice cubierta es mayor que la total\n",
    "\n",
    "data_limpia['surface_covered']=np.where((data_limpia['surface_covered']>data_limpia['surface_total']),\n",
    "                                        data_limpia['surface_total'],\n",
    "                                        data_limpia['surface_covered'])\n",
    "\n"
   ]
  },
  {
   "cell_type": "code",
   "execution_count": 81,
   "id": "cdb1d442",
   "metadata": {},
   "outputs": [],
   "source": [
    "# vamos a acomodar los valores nulos de superfices cubiertas, sera igual que los valores totales\n",
    "data_limpia['surface_covered']=np.where(data_limpia['surface_covered'].isnull(),\n",
    "        data_limpia['surface_total'],\n",
    "        data_limpia['surface_covered'])"
   ]
  },
  {
   "cell_type": "code",
   "execution_count": 82,
   "id": "9068c5e9",
   "metadata": {},
   "outputs": [
    {
     "name": "stdout",
     "output_type": "stream",
     "text": [
      "<class 'pandas.core.frame.DataFrame'>\n",
      "Int64Index: 83777 entries, 0 to 89750\n",
      "Data columns (total 12 columns):\n",
      " #   Column             Non-Null Count  Dtype  \n",
      "---  ------             --------------  -----  \n",
      " 0   creacion_registro  83777 non-null  object \n",
      " 1   lat                83777 non-null  float64\n",
      " 2   lon                83777 non-null  float64\n",
      " 3   neighborhood       83777 non-null  object \n",
      " 4   rooms              83777 non-null  float64\n",
      " 5   bedrooms           83777 non-null  float64\n",
      " 6   bathrooms          83777 non-null  float64\n",
      " 7   surface_total      83777 non-null  float64\n",
      " 8   surface_covered    83777 non-null  float64\n",
      " 9   price              83777 non-null  float64\n",
      " 10  title              83777 non-null  object \n",
      " 11  description        83777 non-null  object \n",
      "dtypes: float64(8), object(4)\n",
      "memory usage: 8.3+ MB\n"
     ]
    }
   ],
   "source": [
    "# vemos como quedo compuesta la estructura del datafraem\n",
    "data_limpia.info()"
   ]
  },
  {
   "cell_type": "markdown",
   "id": "8582f04b",
   "metadata": {},
   "source": [
    "### Analisis de los barrios "
   ]
  },
  {
   "cell_type": "code",
   "execution_count": 83,
   "id": "3dbb9ca0",
   "metadata": {},
   "outputs": [
    {
     "data": {
      "text/plain": [
       "57"
      ]
     },
     "execution_count": 83,
     "metadata": {},
     "output_type": "execute_result"
    }
   ],
   "source": [
    "# vamos a volver a ver los valores de barrios \n",
    "\n",
    "len(data_limpia['neighborhood'].unique())\n",
    "\n",
    "#vemos que hay 57 valores cuando deberian ser 48"
   ]
  },
  {
   "cell_type": "code",
   "execution_count": 84,
   "id": "bd0ee94b",
   "metadata": {},
   "outputs": [
    {
     "data": {
      "text/plain": [
       "array(['ALMAGRO', 'PALERMO', 'SAAVEDRA', 'CHACARITA', 'BARRIO NORTE',\n",
       "       'SAN NICOLÁS', 'VILLA CRESPO', 'VILLA PUEYRREDÓN', 'ONCE',\n",
       "       'COGHLAN', 'BELGRANO', 'VILLA DEVOTO', 'VILLA URQUIZA', 'BOEDO',\n",
       "       'FLORES', 'NUÑEZ', 'BARRACAS', 'RECOLETA', 'COLEGIALES',\n",
       "       'VILLA DEL PARQUE', 'CABALLITO', 'RETIRO', 'FLORESTA', 'BALVANERA',\n",
       "       'MONTE CASTRO', 'VILLA GENERAL MITRE', 'PARQUE CHACABUCO',\n",
       "       'ABASTO', 'PUERTO MADERO', 'SAN CRISTOBAL', 'VILLA SANTA RITA',\n",
       "       'VILLA LUGANO', 'CONGRESO', 'MONSERRAT', 'BOCA', 'SAN TELMO',\n",
       "       'PARQUE CENTENARIO', 'LINIERS', 'LAS CAÑITAS', 'TRIBUNALES',\n",
       "       'PARQUE PATRICIOS', 'PATERNAL', 'CENTRO / MICROCENTRO',\n",
       "       'CONSTITUCIÓN', 'POMPEYA', 'VILLA LURO', 'VERSALLES', 'AGRONOMÍA',\n",
       "       'VILLA REAL', 'MATADEROS', 'VILLA SOLDATI', 'VILLA ORTUZAR',\n",
       "       'PARQUE AVELLANEDA', 'VELEZ SARSFIELD', 'PARQUE CHAS',\n",
       "       'VILLA RIACHUELO', 'CATALINAS'], dtype=object)"
      ]
     },
     "execution_count": 84,
     "metadata": {},
     "output_type": "execute_result"
    }
   ],
   "source": [
    "# vemos los barrios del dataset\n",
    "data_limpia['neighborhood']=data_limpia['neighborhood'].str.upper()\n",
    "barrios_dataset= data_limpia['neighborhood'].unique()\n",
    "\n",
    "barrios_dataset"
   ]
  },
  {
   "cell_type": "code",
   "execution_count": 85,
   "id": "16b15ed4",
   "metadata": {},
   "outputs": [],
   "source": [
    "# listado oficial de barrios de caba\n",
    "barrios_caba= ['AGRONOMÍA', 'ALMAGRO', 'BALVANERA', 'BARRACAS', 'BELGRANO',\n",
    "       'BOCA', 'BOEDO', 'CABALLITO', 'CHACARITA', 'COGHLAN', 'COLEGIALES',\n",
    "       'CONSTITUCIÓN', 'FLORES', 'FLORESTA', 'LINIERS', 'MATADEROS',\n",
    "       'MONSERRAT', 'MONTE CASTRO', 'NUEVA POMPEYA', 'NUÑEZ', 'PALERMO',\n",
    "       'PARQUE AVELLANEDA', 'PARQUE CHACABUCO', 'PARQUE CHAS',\n",
    "       'PARQUE PATRICIOS', 'PATERNAL', 'PUERTO MADERO', 'RECOLETA',\n",
    "       'RETIRO', 'SAAVEDRA', 'SAN CRISTOBAL', 'SAN NICOLÁS', 'SAN TELMO',\n",
    "       'VELEZ SARSFIELD', 'VERSALLES', 'VILLA CRESPO', 'VILLA DEL PARQUE',\n",
    "       'VILLA DEVOTO', 'VILLA GENERAL MITRE', 'VILLA LUGANO', 'VILLA LURO',\n",
    "       'VILLA ORTUZAR', 'VILLA PUEYRREDÓN', 'VILLA REAL',\n",
    "       'VILLA RIACHUELO', 'VILLA SANTA RITA', 'VILLA SOLDATI',\n",
    "       'VILLA URQUIZA']"
   ]
  },
  {
   "cell_type": "code",
   "execution_count": 86,
   "id": "33eb3b11",
   "metadata": {},
   "outputs": [
    {
     "data": {
      "text/plain": [
       "10"
      ]
     },
     "execution_count": 86,
     "metadata": {},
     "output_type": "execute_result"
    }
   ],
   "source": [
    "# a traves de una lista de comprension repasamos cuales son los barrios que no estan en la lista\n",
    "barrios_no_oficiales=[i for i in barrios_dataset if i not in barrios_caba]\n",
    "len(barrios_no_oficiales)"
   ]
  },
  {
   "cell_type": "code",
   "execution_count": 87,
   "id": "123cac45",
   "metadata": {},
   "outputs": [
    {
     "data": {
      "text/plain": [
       "57"
      ]
     },
     "execution_count": 87,
     "metadata": {},
     "output_type": "execute_result"
    }
   ],
   "source": [
    "len(data_limpia['neighborhood'].unique())"
   ]
  },
  {
   "cell_type": "code",
   "execution_count": 88,
   "id": "1d4a6b5d",
   "metadata": {},
   "outputs": [
    {
     "data": {
      "text/plain": [
       "array(['ALMAGRO', 'PALERMO', 'SAAVEDRA', 'CHACARITA', 'BARRIO NORTE',\n",
       "       'SAN NICOLÁS', 'VILLA CRESPO', 'VILLA PUEYRREDÓN', 'ONCE',\n",
       "       'COGHLAN', 'BELGRANO', 'VILLA DEVOTO', 'VILLA URQUIZA', 'BOEDO',\n",
       "       'FLORES', 'NUÑEZ', 'BARRACAS', 'RECOLETA', 'COLEGIALES',\n",
       "       'VILLA DEL PARQUE', 'CABALLITO', 'RETIRO', 'FLORESTA', 'BALVANERA',\n",
       "       'MONTE CASTRO', 'VILLA GENERAL MITRE', 'PARQUE CHACABUCO',\n",
       "       'ABASTO', 'PUERTO MADERO', 'SAN CRISTOBAL', 'VILLA SANTA RITA',\n",
       "       'VILLA LUGANO', 'CONGRESO', 'MONSERRAT', 'BOCA', 'SAN TELMO',\n",
       "       'PARQUE CENTENARIO', 'LINIERS', 'LAS CAÑITAS', 'TRIBUNALES',\n",
       "       'PARQUE PATRICIOS', 'PATERNAL', 'CENTRO / MICROCENTRO',\n",
       "       'CONSTITUCIÓN', 'POMPEYA', 'VILLA LURO', 'VERSALLES', 'AGRONOMÍA',\n",
       "       'VILLA REAL', 'MATADEROS', 'VILLA SOLDATI', 'VILLA ORTUZAR',\n",
       "       'PARQUE AVELLANEDA', 'VELEZ SARSFIELD', 'PARQUE CHAS',\n",
       "       'VILLA RIACHUELO', 'CATALINAS'], dtype=object)"
      ]
     },
     "execution_count": 88,
     "metadata": {},
     "output_type": "execute_result"
    }
   ],
   "source": [
    "data_limpia['neighborhood'].unique()"
   ]
  },
  {
   "cell_type": "code",
   "execution_count": 89,
   "id": "2afb61a3",
   "metadata": {},
   "outputs": [
    {
     "name": "stdout",
     "output_type": "stream",
     "text": [
      "<class 'pandas.core.frame.DataFrame'>\n",
      "RangeIndex: 78769 entries, 0 to 78768\n",
      "Data columns (total 12 columns):\n",
      " #   Column             Non-Null Count  Dtype  \n",
      "---  ------             --------------  -----  \n",
      " 0   creacion_registro  78769 non-null  object \n",
      " 1   lat                78769 non-null  float64\n",
      " 2   lon                78769 non-null  float64\n",
      " 3   neighborhood       78769 non-null  object \n",
      " 4   rooms              78769 non-null  float64\n",
      " 5   bedrooms           78769 non-null  float64\n",
      " 6   bathrooms          78769 non-null  float64\n",
      " 7   surface_total      78769 non-null  float64\n",
      " 8   surface_covered    78769 non-null  float64\n",
      " 9   price              78769 non-null  float64\n",
      " 10  title              78769 non-null  object \n",
      " 11  description        78769 non-null  object \n",
      "dtypes: float64(8), object(4)\n",
      "memory usage: 130.0 MB\n"
     ]
    }
   ],
   "source": [
    "# vemos que hay 3866 departamentos que tienen mal escrito el barrio, por el momento vamos a hacer un drop de los mismos\n",
    "data_limpia=data_limpia.loc[~data_limpia['neighborhood'].isin(barrios_no_oficiales) , : ]\n",
    "\n",
    "data_limpia.reset_index(drop=True,inplace=True)\n",
    "data_limpia.info(memory_usage='deep')"
   ]
  },
  {
   "cell_type": "code",
   "execution_count": 91,
   "id": "5bf8c4c0",
   "metadata": {},
   "outputs": [],
   "source": [
    "# guardamos el dataframe limpio para su posterior trabajo en los modelos\n",
    "# data_limpia.to_csv('dataframe_departamentos_caba.csv')"
   ]
  }
 ],
 "metadata": {
  "kernelspec": {
   "display_name": "Python 3 (ipykernel)",
   "language": "python",
   "name": "python3"
  },
  "language_info": {
   "codemirror_mode": {
    "name": "ipython",
    "version": 3
   },
   "file_extension": ".py",
   "mimetype": "text/x-python",
   "name": "python",
   "nbconvert_exporter": "python",
   "pygments_lexer": "ipython3",
   "version": "3.9.7"
  }
 },
 "nbformat": 4,
 "nbformat_minor": 5
}
