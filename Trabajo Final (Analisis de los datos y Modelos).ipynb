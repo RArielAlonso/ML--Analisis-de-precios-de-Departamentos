{
 "cells": [
  {
   "cell_type": "markdown",
   "id": "b5edb24a",
   "metadata": {},
   "source": [
    "# Analisis de departamentos en venta en CABA\n",
    "\n",
    "Determinaremos a partir del dataset obtenido en properati cual seria el precio segun cada barrio en CABA a partir de distintas variables.\n",
    "\n",
    "Realizamos la limpieza en otra notebook para que despues quede el dataframe limpio para realizar los distintos modelos"
   ]
  },
  {
   "cell_type": "markdown",
   "id": "ec41f089",
   "metadata": {},
   "source": [
    "## Librerias"
   ]
  },
  {
   "cell_type": "code",
   "execution_count": 40,
   "id": "5138403e",
   "metadata": {},
   "outputs": [],
   "source": [
    "import pandas as pd\n",
    "import numpy as np\n",
    "import matplotlib.pyplot as plt\n",
    "import seaborn as sns\n",
    "\n",
    "from sklearn.preprocessing import MinMaxScaler\n",
    "from sklearn.preprocessing import StandardScaler\n",
    "\n",
    "from sklearn.model_selection import train_test_split\n",
    "from sklearn import metrics\n",
    "\n",
    "from sklearn.ensemble import RandomForestRegressor\n",
    "from sklearn.svm import SVR\n",
    "from sklearn.neighbors import KNeighborsRegressor\n"
   ]
  },
  {
   "cell_type": "markdown",
   "id": "4d8b4402",
   "metadata": {},
   "source": [
    "# Importacion de los datos\n",
    "\n",
    "En esta parte del proceso vamos a enriquecer los datos con datos desde Buenos Aires data, agregando los valores de superficies verdes por barrio"
   ]
  },
  {
   "cell_type": "markdown",
   "id": "9ee39bbb",
   "metadata": {},
   "source": [
    "### Datos limpios desde Properati"
   ]
  },
  {
   "cell_type": "code",
   "execution_count": 41,
   "id": "d073dd99",
   "metadata": {},
   "outputs": [],
   "source": [
    "# importamos el csv que ya tiene los datos limpios\n",
    "data=pd.read_csv('dataframe_departamentos_caba.csv').iloc[ : , 1:]"
   ]
  },
  {
   "cell_type": "code",
   "execution_count": 42,
   "id": "c26a33a6",
   "metadata": {},
   "outputs": [
    {
     "name": "stdout",
     "output_type": "stream",
     "text": [
      "<class 'pandas.core.frame.DataFrame'>\n",
      "RangeIndex: 78769 entries, 0 to 78768\n",
      "Data columns (total 12 columns):\n",
      " #   Column             Non-Null Count  Dtype         \n",
      "---  ------             --------------  -----         \n",
      " 0   creacion_registro  78769 non-null  datetime64[ns]\n",
      " 1   lat                78769 non-null  float64       \n",
      " 2   lon                78769 non-null  float64       \n",
      " 3   neighborhood       78769 non-null  object        \n",
      " 4   rooms              78769 non-null  float64       \n",
      " 5   bedrooms           78769 non-null  float64       \n",
      " 6   bathrooms          78769 non-null  float64       \n",
      " 7   surface_total      78769 non-null  float64       \n",
      " 8   surface_covered    78769 non-null  float64       \n",
      " 9   price              78769 non-null  float64       \n",
      " 10  title              78769 non-null  object        \n",
      " 11  description        78769 non-null  object        \n",
      "dtypes: datetime64[ns](1), float64(8), object(3)\n",
      "memory usage: 7.2+ MB\n"
     ]
    }
   ],
   "source": [
    "data['creacion_registro']=pd.to_datetime(data['creacion_registro'])\n",
    "data.info()"
   ]
  },
  {
   "cell_type": "markdown",
   "id": "1f061bf4",
   "metadata": {},
   "source": [
    "### Datos de espacios verdes por barrio y cantidad de puntos de recoleccion de basura y reciclado"
   ]
  },
  {
   "cell_type": "code",
   "execution_count": 43,
   "id": "c4eaaaad",
   "metadata": {},
   "outputs": [],
   "source": [
    "espacios_verdes=pd.read_csv('Espacios verdes por barrio.csv').drop('Unnamed: 0',axis=1)"
   ]
  },
  {
   "cell_type": "code",
   "execution_count": 44,
   "id": "6fe51142",
   "metadata": {},
   "outputs": [
    {
     "data": {
      "text/html": [
       "<div>\n",
       "<style scoped>\n",
       "    .dataframe tbody tr th:only-of-type {\n",
       "        vertical-align: middle;\n",
       "    }\n",
       "\n",
       "    .dataframe tbody tr th {\n",
       "        vertical-align: top;\n",
       "    }\n",
       "\n",
       "    .dataframe thead th {\n",
       "        text-align: right;\n",
       "    }\n",
       "</style>\n",
       "<table border=\"1\" class=\"dataframe\">\n",
       "  <thead>\n",
       "    <tr style=\"text-align: right;\">\n",
       "      <th></th>\n",
       "      <th>barrio</th>\n",
       "      <th>poblacion</th>\n",
       "      <th>wkt</th>\n",
       "      <th>comuna</th>\n",
       "      <th>perimetro</th>\n",
       "      <th>area</th>\n",
       "      <th>superficie_verde</th>\n",
       "      <th>sup_verde/hab</th>\n",
       "      <th>sup_verde/sup</th>\n",
       "      <th>centro_poligono</th>\n",
       "      <th>centro_poligono_str</th>\n",
       "      <th>longitud</th>\n",
       "      <th>latitud</th>\n",
       "      <th>superficie_verde_bins</th>\n",
       "      <th>porcentaje_de_superficie_verde</th>\n",
       "    </tr>\n",
       "  </thead>\n",
       "  <tbody>\n",
       "    <tr>\n",
       "      <th>0</th>\n",
       "      <td>AGRONOMIA</td>\n",
       "      <td>13912</td>\n",
       "      <td>POLYGON ((-58.4771156675186 -34.5951149914833,...</td>\n",
       "      <td>15</td>\n",
       "      <td>6556.17</td>\n",
       "      <td>2122169.34</td>\n",
       "      <td>2833.542</td>\n",
       "      <td>0.20</td>\n",
       "      <td>0.00</td>\n",
       "      <td>POINT (-58.48867265990651 -34.59294471940873)</td>\n",
       "      <td>POINT (-58.48867265990651 -34.59294471940873)</td>\n",
       "      <td>-58.488673</td>\n",
       "      <td>-34.592945</td>\n",
       "      <td>1</td>\n",
       "      <td>0.018626</td>\n",
       "    </tr>\n",
       "    <tr>\n",
       "      <th>1</th>\n",
       "      <td>ALMAGRO</td>\n",
       "      <td>131699</td>\n",
       "      <td>POLYGON ((-58.4128700313089 -34.6141162515854,...</td>\n",
       "      <td>5</td>\n",
       "      <td>8537.90</td>\n",
       "      <td>4050752.25</td>\n",
       "      <td>9198.799</td>\n",
       "      <td>0.07</td>\n",
       "      <td>0.00</td>\n",
       "      <td>POINT (-58.4217445234198 -34.60922725926523)</td>\n",
       "      <td>POINT (-58.4217445234198 -34.60922725926523)</td>\n",
       "      <td>-58.421745</td>\n",
       "      <td>-34.609227</td>\n",
       "      <td>1</td>\n",
       "      <td>0.060469</td>\n",
       "    </tr>\n",
       "    <tr>\n",
       "      <th>2</th>\n",
       "      <td>BALVANERA</td>\n",
       "      <td>138926</td>\n",
       "      <td>POLYGON ((-58.4119188098038 -34.5980030767748,...</td>\n",
       "      <td>3</td>\n",
       "      <td>8375.82</td>\n",
       "      <td>4342280.27</td>\n",
       "      <td>30755.787</td>\n",
       "      <td>0.22</td>\n",
       "      <td>0.01</td>\n",
       "      <td>POINT (-58.40306169003019 -34.60909939962956)</td>\n",
       "      <td>POINT (-58.40306169003019 -34.60909939962956)</td>\n",
       "      <td>-58.403062</td>\n",
       "      <td>-34.609099</td>\n",
       "      <td>2</td>\n",
       "      <td>0.202174</td>\n",
       "    </tr>\n",
       "    <tr>\n",
       "      <th>3</th>\n",
       "      <td>BARRACAS</td>\n",
       "      <td>89452</td>\n",
       "      <td>POLYGON ((-58.3703353711449 -34.6329258371189,...</td>\n",
       "      <td>4</td>\n",
       "      <td>12789.79</td>\n",
       "      <td>7953453.43</td>\n",
       "      <td>225939.635</td>\n",
       "      <td>2.53</td>\n",
       "      <td>0.03</td>\n",
       "      <td>POINT (-58.38427181189788 -34.64640270803372)</td>\n",
       "      <td>POINT (-58.38427181189788 -34.64640270803372)</td>\n",
       "      <td>-58.384272</td>\n",
       "      <td>-34.646403</td>\n",
       "      <td>4</td>\n",
       "      <td>1.485219</td>\n",
       "    </tr>\n",
       "    <tr>\n",
       "      <th>4</th>\n",
       "      <td>BELGRANO</td>\n",
       "      <td>126267</td>\n",
       "      <td>POLYGON ((-58.4505669109009 -34.5356104340406,...</td>\n",
       "      <td>13</td>\n",
       "      <td>20609.78</td>\n",
       "      <td>7999239.81</td>\n",
       "      <td>1278224.942</td>\n",
       "      <td>10.12</td>\n",
       "      <td>0.16</td>\n",
       "      <td>POINT (-58.4502414309702 -34.55476262833122)</td>\n",
       "      <td>POINT (-58.4502414309702 -34.55476262833122)</td>\n",
       "      <td>-58.450241</td>\n",
       "      <td>-34.554763</td>\n",
       "      <td>4</td>\n",
       "      <td>8.402439</td>\n",
       "    </tr>\n",
       "  </tbody>\n",
       "</table>\n",
       "</div>"
      ],
      "text/plain": [
       "      barrio  poblacion                                                wkt  \\\n",
       "0  AGRONOMIA      13912  POLYGON ((-58.4771156675186 -34.5951149914833,...   \n",
       "1    ALMAGRO     131699  POLYGON ((-58.4128700313089 -34.6141162515854,...   \n",
       "2  BALVANERA     138926  POLYGON ((-58.4119188098038 -34.5980030767748,...   \n",
       "3   BARRACAS      89452  POLYGON ((-58.3703353711449 -34.6329258371189,...   \n",
       "4   BELGRANO     126267  POLYGON ((-58.4505669109009 -34.5356104340406,...   \n",
       "\n",
       "   comuna  perimetro        area  superficie_verde  sup_verde/hab  \\\n",
       "0      15    6556.17  2122169.34          2833.542           0.20   \n",
       "1       5    8537.90  4050752.25          9198.799           0.07   \n",
       "2       3    8375.82  4342280.27         30755.787           0.22   \n",
       "3       4   12789.79  7953453.43        225939.635           2.53   \n",
       "4      13   20609.78  7999239.81       1278224.942          10.12   \n",
       "\n",
       "   sup_verde/sup                                centro_poligono  \\\n",
       "0           0.00  POINT (-58.48867265990651 -34.59294471940873)   \n",
       "1           0.00   POINT (-58.4217445234198 -34.60922725926523)   \n",
       "2           0.01  POINT (-58.40306169003019 -34.60909939962956)   \n",
       "3           0.03  POINT (-58.38427181189788 -34.64640270803372)   \n",
       "4           0.16   POINT (-58.4502414309702 -34.55476262833122)   \n",
       "\n",
       "                             centro_poligono_str   longitud    latitud  \\\n",
       "0  POINT (-58.48867265990651 -34.59294471940873) -58.488673 -34.592945   \n",
       "1   POINT (-58.4217445234198 -34.60922725926523) -58.421745 -34.609227   \n",
       "2  POINT (-58.40306169003019 -34.60909939962956) -58.403062 -34.609099   \n",
       "3  POINT (-58.38427181189788 -34.64640270803372) -58.384272 -34.646403   \n",
       "4   POINT (-58.4502414309702 -34.55476262833122) -58.450241 -34.554763   \n",
       "\n",
       "   superficie_verde_bins  porcentaje_de_superficie_verde  \n",
       "0                      1                        0.018626  \n",
       "1                      1                        0.060469  \n",
       "2                      2                        0.202174  \n",
       "3                      4                        1.485219  \n",
       "4                      4                        8.402439  "
      ]
     },
     "execution_count": 44,
     "metadata": {},
     "output_type": "execute_result"
    }
   ],
   "source": [
    "espacios_verdes.head()"
   ]
  },
  {
   "cell_type": "code",
   "execution_count": 45,
   "id": "3dacf4e3",
   "metadata": {},
   "outputs": [
    {
     "data": {
      "text/html": [
       "<div>\n",
       "<style scoped>\n",
       "    .dataframe tbody tr th:only-of-type {\n",
       "        vertical-align: middle;\n",
       "    }\n",
       "\n",
       "    .dataframe tbody tr th {\n",
       "        vertical-align: top;\n",
       "    }\n",
       "\n",
       "    .dataframe thead th {\n",
       "        text-align: right;\n",
       "    }\n",
       "</style>\n",
       "<table border=\"1\" class=\"dataframe\">\n",
       "  <thead>\n",
       "    <tr style=\"text-align: right;\">\n",
       "      <th></th>\n",
       "      <th>barrio</th>\n",
       "      <th>area</th>\n",
       "      <th>superficie_verde</th>\n",
       "      <th>sup_verde/sup</th>\n",
       "    </tr>\n",
       "  </thead>\n",
       "  <tbody>\n",
       "    <tr>\n",
       "      <th>0</th>\n",
       "      <td>AGRONOMIA</td>\n",
       "      <td>2122169.34</td>\n",
       "      <td>2833.542</td>\n",
       "      <td>0.00</td>\n",
       "    </tr>\n",
       "    <tr>\n",
       "      <th>1</th>\n",
       "      <td>ALMAGRO</td>\n",
       "      <td>4050752.25</td>\n",
       "      <td>9198.799</td>\n",
       "      <td>0.00</td>\n",
       "    </tr>\n",
       "    <tr>\n",
       "      <th>2</th>\n",
       "      <td>BALVANERA</td>\n",
       "      <td>4342280.27</td>\n",
       "      <td>30755.787</td>\n",
       "      <td>0.01</td>\n",
       "    </tr>\n",
       "    <tr>\n",
       "      <th>3</th>\n",
       "      <td>BARRACAS</td>\n",
       "      <td>7953453.43</td>\n",
       "      <td>225939.635</td>\n",
       "      <td>0.03</td>\n",
       "    </tr>\n",
       "    <tr>\n",
       "      <th>4</th>\n",
       "      <td>BELGRANO</td>\n",
       "      <td>7999239.81</td>\n",
       "      <td>1278224.942</td>\n",
       "      <td>0.16</td>\n",
       "    </tr>\n",
       "  </tbody>\n",
       "</table>\n",
       "</div>"
      ],
      "text/plain": [
       "      barrio        area  superficie_verde  sup_verde/sup\n",
       "0  AGRONOMIA  2122169.34          2833.542           0.00\n",
       "1    ALMAGRO  4050752.25          9198.799           0.00\n",
       "2  BALVANERA  4342280.27         30755.787           0.01\n",
       "3   BARRACAS  7953453.43        225939.635           0.03\n",
       "4   BELGRANO  7999239.81       1278224.942           0.16"
      ]
     },
     "execution_count": 45,
     "metadata": {},
     "output_type": "execute_result"
    }
   ],
   "source": [
    "# nos quedamos solamente con los datos de barrio y superficie verde y sup_verde/sup\n",
    "espacios_verdes=espacios_verdes.loc[:,['barrio','area','superficie_verde','sup_verde/sup']]\n",
    "espacios_verdes.head()"
   ]
  },
  {
   "cell_type": "markdown",
   "id": "f5321e7b",
   "metadata": {},
   "source": [
    "### Unimos la tabla de espacio verde con el dataframe original"
   ]
  },
  {
   "cell_type": "code",
   "execution_count": 46,
   "id": "f6073b38",
   "metadata": {},
   "outputs": [
    {
     "data": {
      "text/plain": [
       "['ALMAGRO',\n",
       " 'PALERMO',\n",
       " 'SAAVEDRA',\n",
       " 'CHACARITA',\n",
       " 'SAN NICOLÁS',\n",
       " 'VILLA CRESPO',\n",
       " 'VILLA PUEYRREDÓN',\n",
       " 'COGHLAN',\n",
       " 'BELGRANO',\n",
       " 'VILLA DEVOTO',\n",
       " 'VILLA URQUIZA',\n",
       " 'BOEDO',\n",
       " 'FLORES',\n",
       " 'NUÑEZ',\n",
       " 'BARRACAS',\n",
       " 'RECOLETA',\n",
       " 'COLEGIALES',\n",
       " 'VILLA DEL PARQUE',\n",
       " 'CABALLITO',\n",
       " 'RETIRO',\n",
       " 'FLORESTA',\n",
       " 'BALVANERA',\n",
       " 'MONTE CASTRO',\n",
       " 'VILLA GENERAL MITRE',\n",
       " 'PARQUE CHACABUCO',\n",
       " 'PUERTO MADERO',\n",
       " 'SAN CRISTOBAL',\n",
       " 'VILLA SANTA RITA',\n",
       " 'VILLA LUGANO',\n",
       " 'MONSERRAT',\n",
       " 'BOCA',\n",
       " 'SAN TELMO',\n",
       " 'LINIERS',\n",
       " 'PARQUE PATRICIOS',\n",
       " 'PATERNAL',\n",
       " 'CONSTITUCIÓN',\n",
       " 'VILLA LURO',\n",
       " 'VERSALLES',\n",
       " 'AGRONOMÍA',\n",
       " 'VILLA REAL',\n",
       " 'MATADEROS',\n",
       " 'VILLA SOLDATI',\n",
       " 'VILLA ORTUZAR',\n",
       " 'PARQUE AVELLANEDA',\n",
       " 'VELEZ SARSFIELD',\n",
       " 'PARQUE CHAS',\n",
       " 'VILLA RIACHUELO']"
      ]
     },
     "execution_count": 46,
     "metadata": {},
     "output_type": "execute_result"
    }
   ],
   "source": [
    "list(data['neighborhood'].unique())"
   ]
  },
  {
   "cell_type": "code",
   "execution_count": 47,
   "id": "72215ff0",
   "metadata": {},
   "outputs": [
    {
     "data": {
      "text/plain": [
       "['AGRONOMIA',\n",
       " 'CONSTITUCION',\n",
       " 'NUEVA POMPEYA',\n",
       " 'SAN NICOLAS',\n",
       " 'VILLA GRAL. MITRE',\n",
       " 'VILLA PUEYRREDON']"
      ]
     },
     "execution_count": 47,
     "metadata": {},
     "output_type": "execute_result"
    }
   ],
   "source": [
    "[i for i in espacios_verdes['barrio'].unique() if i not in data['neighborhood'].unique()]"
   ]
  },
  {
   "cell_type": "code",
   "execution_count": 48,
   "id": "5c34095c",
   "metadata": {},
   "outputs": [],
   "source": [
    "# hacemos los reemplazos de las tildes y de los datos mal escritos\n",
    "data['neighborhood']=data['neighborhood'].str.replace('Á','A')\n",
    "data['neighborhood']=data['neighborhood'].str.replace('É','E')\n",
    "data['neighborhood']=data['neighborhood'].str.replace('Í','I')\n",
    "data['neighborhood']=data['neighborhood'].str.replace('Ó','O')\n",
    "data['neighborhood']=data['neighborhood'].str.replace('Ú','U')\n",
    "data['neighborhood']=data['neighborhood'].str.replace('VILLA GENERAL MITRE','VILLA GRAL. MITRE')\n"
   ]
  },
  {
   "cell_type": "code",
   "execution_count": 49,
   "id": "1c145453",
   "metadata": {},
   "outputs": [],
   "source": [
    "data_final=data.merge(espacios_verdes,\n",
    "                      how='left',\n",
    "                      left_on='neighborhood',\n",
    "                      right_on='barrio').drop('barrio',axis=1)"
   ]
  },
  {
   "cell_type": "code",
   "execution_count": null,
   "id": "12b3b2d6",
   "metadata": {},
   "outputs": [],
   "source": []
  },
  {
   "cell_type": "code",
   "execution_count": 50,
   "id": "9fa0fc6e",
   "metadata": {},
   "outputs": [
    {
     "data": {
      "image/png": "[encoded data removed]",
      "text/plain": [
       "<Figure size 720x720 with 2 Axes>"
      ]
     },
     "metadata": {
      "needs_background": "light"
     },
     "output_type": "display_data"
    }
   ],
   "source": [
    "# vemos la relacion entre las distintas variables \n",
    "# observamos que solamente las variables bedrooms y rooms por un lado y las superficies tienen cierta relacion entre ellas\n",
    "\n",
    "plt.figure(figsize=(10,10))\n",
    "\n",
    "sns.heatmap(data_final.corr(),\n",
    "            annot=True,\n",
    "            cmap='Spectral'            \n",
    "           )\n",
    "\n",
    "plt.show()"
   ]
  },
  {
   "cell_type": "code",
   "execution_count": 51,
   "id": "707e877c",
   "metadata": {},
   "outputs": [
    {
     "data": {
      "text/html": [
       "<div>\n",
       "<style scoped>\n",
       "    .dataframe tbody tr th:only-of-type {\n",
       "        vertical-align: middle;\n",
       "    }\n",
       "\n",
       "    .dataframe tbody tr th {\n",
       "        vertical-align: top;\n",
       "    }\n",
       "\n",
       "    .dataframe thead th {\n",
       "        text-align: right;\n",
       "    }\n",
       "</style>\n",
       "<table border=\"1\" class=\"dataframe\">\n",
       "  <thead>\n",
       "    <tr style=\"text-align: right;\">\n",
       "      <th></th>\n",
       "      <th>count</th>\n",
       "      <th>mean</th>\n",
       "      <th>std</th>\n",
       "      <th>min</th>\n",
       "      <th>25%</th>\n",
       "      <th>50%</th>\n",
       "      <th>75%</th>\n",
       "      <th>max</th>\n",
       "    </tr>\n",
       "  </thead>\n",
       "  <tbody>\n",
       "    <tr>\n",
       "      <th>lat</th>\n",
       "      <td>78769.0</td>\n",
       "      <td>-3.459404e+01</td>\n",
       "      <td>2.500775e-02</td>\n",
       "      <td>-3.469899e+01</td>\n",
       "      <td>-3.461253e+01</td>\n",
       "      <td>-3.459348e+01</td>\n",
       "      <td>-3.457652e+01</td>\n",
       "      <td>-3.453600e+01</td>\n",
       "    </tr>\n",
       "    <tr>\n",
       "      <th>lon</th>\n",
       "      <td>78769.0</td>\n",
       "      <td>-5.843624e+01</td>\n",
       "      <td>3.611998e-02</td>\n",
       "      <td>-5.852982e+01</td>\n",
       "      <td>-5.846106e+01</td>\n",
       "      <td>-5.843782e+01</td>\n",
       "      <td>-5.841121e+01</td>\n",
       "      <td>-5.834395e+01</td>\n",
       "    </tr>\n",
       "    <tr>\n",
       "      <th>rooms</th>\n",
       "      <td>78769.0</td>\n",
       "      <td>2.545646e+00</td>\n",
       "      <td>1.288997e+00</td>\n",
       "      <td>1.000000e+00</td>\n",
       "      <td>2.000000e+00</td>\n",
       "      <td>2.000000e+00</td>\n",
       "      <td>3.000000e+00</td>\n",
       "      <td>3.500000e+01</td>\n",
       "    </tr>\n",
       "    <tr>\n",
       "      <th>bedrooms</th>\n",
       "      <td>78769.0</td>\n",
       "      <td>1.721236e+00</td>\n",
       "      <td>9.544316e-01</td>\n",
       "      <td>-1.000000e+00</td>\n",
       "      <td>1.000000e+00</td>\n",
       "      <td>1.000000e+00</td>\n",
       "      <td>2.000000e+00</td>\n",
       "      <td>3.200000e+01</td>\n",
       "    </tr>\n",
       "    <tr>\n",
       "      <th>bathrooms</th>\n",
       "      <td>78769.0</td>\n",
       "      <td>1.426691e+00</td>\n",
       "      <td>7.627890e-01</td>\n",
       "      <td>1.000000e+00</td>\n",
       "      <td>1.000000e+00</td>\n",
       "      <td>1.000000e+00</td>\n",
       "      <td>2.000000e+00</td>\n",
       "      <td>1.000000e+01</td>\n",
       "    </tr>\n",
       "    <tr>\n",
       "      <th>surface_total</th>\n",
       "      <td>78769.0</td>\n",
       "      <td>1.021204e+02</td>\n",
       "      <td>8.374816e+02</td>\n",
       "      <td>1.000000e+01</td>\n",
       "      <td>4.300000e+01</td>\n",
       "      <td>6.000000e+01</td>\n",
       "      <td>9.100000e+01</td>\n",
       "      <td>7.206000e+04</td>\n",
       "    </tr>\n",
       "    <tr>\n",
       "      <th>surface_covered</th>\n",
       "      <td>78769.0</td>\n",
       "      <td>8.108166e+01</td>\n",
       "      <td>5.693797e+02</td>\n",
       "      <td>1.000000e+00</td>\n",
       "      <td>3.900000e+01</td>\n",
       "      <td>5.400000e+01</td>\n",
       "      <td>8.000000e+01</td>\n",
       "      <td>6.735000e+04</td>\n",
       "    </tr>\n",
       "    <tr>\n",
       "      <th>price</th>\n",
       "      <td>78769.0</td>\n",
       "      <td>2.436127e+05</td>\n",
       "      <td>3.403640e+05</td>\n",
       "      <td>5.000000e+03</td>\n",
       "      <td>9.950000e+04</td>\n",
       "      <td>1.489000e+05</td>\n",
       "      <td>2.480000e+05</td>\n",
       "      <td>2.140000e+07</td>\n",
       "    </tr>\n",
       "    <tr>\n",
       "      <th>area</th>\n",
       "      <td>78769.0</td>\n",
       "      <td>7.125718e+06</td>\n",
       "      <td>4.567745e+06</td>\n",
       "      <td>1.232270e+06</td>\n",
       "      <td>4.050752e+06</td>\n",
       "      <td>6.317265e+06</td>\n",
       "      <td>7.999240e+06</td>\n",
       "      <td>1.584587e+07</td>\n",
       "    </tr>\n",
       "    <tr>\n",
       "      <th>superficie_verde</th>\n",
       "      <td>78769.0</td>\n",
       "      <td>7.224530e+05</td>\n",
       "      <td>8.918959e+05</td>\n",
       "      <td>3.552050e+02</td>\n",
       "      <td>4.282511e+04</td>\n",
       "      <td>2.158746e+05</td>\n",
       "      <td>1.278225e+06</td>\n",
       "      <td>2.860115e+06</td>\n",
       "    </tr>\n",
       "    <tr>\n",
       "      <th>sup_verde/sup</th>\n",
       "      <td>78769.0</td>\n",
       "      <td>7.608894e-02</td>\n",
       "      <td>9.582692e-02</td>\n",
       "      <td>0.000000e+00</td>\n",
       "      <td>1.000000e-02</td>\n",
       "      <td>3.000000e-02</td>\n",
       "      <td>1.400000e-01</td>\n",
       "      <td>5.600000e-01</td>\n",
       "    </tr>\n",
       "  </tbody>\n",
       "</table>\n",
       "</div>"
      ],
      "text/plain": [
       "                    count          mean           std           min  \\\n",
       "lat               78769.0 -3.459404e+01  2.500775e-02 -3.469899e+01   \n",
       "lon               78769.0 -5.843624e+01  3.611998e-02 -5.852982e+01   \n",
       "rooms             78769.0  2.545646e+00  1.288997e+00  1.000000e+00   \n",
       "bedrooms          78769.0  1.721236e+00  9.544316e-01 -1.000000e+00   \n",
       "bathrooms         78769.0  1.426691e+00  7.627890e-01  1.000000e+00   \n",
       "surface_total     78769.0  1.021204e+02  8.374816e+02  1.000000e+01   \n",
       "surface_covered   78769.0  8.108166e+01  5.693797e+02  1.000000e+00   \n",
       "price             78769.0  2.436127e+05  3.403640e+05  5.000000e+03   \n",
       "area              78769.0  7.125718e+06  4.567745e+06  1.232270e+06   \n",
       "superficie_verde  78769.0  7.224530e+05  8.918959e+05  3.552050e+02   \n",
       "sup_verde/sup     78769.0  7.608894e-02  9.582692e-02  0.000000e+00   \n",
       "\n",
       "                           25%           50%           75%           max  \n",
       "lat              -3.461253e+01 -3.459348e+01 -3.457652e+01 -3.453600e+01  \n",
       "lon              -5.846106e+01 -5.843782e+01 -5.841121e+01 -5.834395e+01  \n",
       "rooms             2.000000e+00  2.000000e+00  3.000000e+00  3.500000e+01  \n",
       "bedrooms          1.000000e+00  1.000000e+00  2.000000e+00  3.200000e+01  \n",
       "bathrooms         1.000000e+00  1.000000e+00  2.000000e+00  1.000000e+01  \n",
       "surface_total     4.300000e+01  6.000000e+01  9.100000e+01  7.206000e+04  \n",
       "surface_covered   3.900000e+01  5.400000e+01  8.000000e+01  6.735000e+04  \n",
       "price             9.950000e+04  1.489000e+05  2.480000e+05  2.140000e+07  \n",
       "area              4.050752e+06  6.317265e+06  7.999240e+06  1.584587e+07  \n",
       "superficie_verde  4.282511e+04  2.158746e+05  1.278225e+06  2.860115e+06  \n",
       "sup_verde/sup     1.000000e-02  3.000000e-02  1.400000e-01  5.600000e-01  "
      ]
     },
     "execution_count": 51,
     "metadata": {},
     "output_type": "execute_result"
    }
   ],
   "source": [
    "data_final.describe().T"
   ]
  },
  {
   "cell_type": "markdown",
   "id": "651f68fa",
   "metadata": {},
   "source": [
    "### Analisis de outliers para la columna precio"
   ]
  },
  {
   "cell_type": "code",
   "execution_count": 52,
   "id": "bc195981",
   "metadata": {},
   "outputs": [
    {
     "data": {
      "image/png": "[encoded data removed]",
      "text/plain": [
       "<Figure size 720x360 with 1 Axes>"
      ]
     },
     "metadata": {
      "needs_background": "light"
     },
     "output_type": "display_data"
    }
   ],
   "source": [
    "# hacemos un box plot para ver los outliers de precios\n",
    "plt.figure(figsize=(10,5))\n",
    "\n",
    "sns.boxplot(x=data_final['price'])\n",
    "\n",
    "plt.show()"
   ]
  },
  {
   "cell_type": "code",
   "execution_count": 53,
   "id": "55158ea1",
   "metadata": {},
   "outputs": [],
   "source": [
    "# elegimos el percentil 95 para eliminar los outliers\n",
    "percentil_precio_95=np.percentile(data_final['price'],q=95)"
   ]
  },
  {
   "cell_type": "code",
   "execution_count": 54,
   "id": "e71e9084",
   "metadata": {},
   "outputs": [],
   "source": [
    "# nos quedamos con los valores de precio menores al percentil 95\n",
    "data_final=data_final.loc[data_final['price']<percentil_precio_95,:]"
   ]
  },
  {
   "cell_type": "code",
   "execution_count": 55,
   "id": "9973d7f2",
   "metadata": {},
   "outputs": [
    {
     "data": {
      "image/png": "[encoded data removed]",
      "text/plain": [
       "<Figure size 720x360 with 1 Axes>"
      ]
     },
     "metadata": {
      "needs_background": "light"
     },
     "output_type": "display_data"
    }
   ],
   "source": [
    "# hacemos un box plot para ver los outliers de precios\n",
    "plt.figure(figsize=(10,5))\n",
    "\n",
    "sns.boxplot(x=data_final['price'])\n",
    "\n",
    "plt.show()"
   ]
  },
  {
   "cell_type": "markdown",
   "id": "9beb52e1",
   "metadata": {},
   "source": [
    "## Modelos"
   ]
  },
  {
   "cell_type": "code",
   "execution_count": 56,
   "id": "33ce2bbe",
   "metadata": {},
   "outputs": [],
   "source": [
    "# Vamos a elegir las variables que seran las independientes y la dependiente el precio\n",
    "X = data_final.loc[:,['lat','lon','bedrooms','bathrooms','surface_total','surface_covered','sup_verde/sup']]\n",
    "Y = data_final['price']"
   ]
  },
  {
   "cell_type": "code",
   "execution_count": 57,
   "id": "f09341ec",
   "metadata": {},
   "outputs": [],
   "source": [
    "# creamos el scaler para escalar los datos\n",
    "scaler = StandardScaler()"
   ]
  },
  {
   "cell_type": "code",
   "execution_count": 58,
   "id": "1afc91c7",
   "metadata": {},
   "outputs": [
    {
     "data": {
      "text/plain": [
       "StandardScaler()"
      ]
     },
     "execution_count": 58,
     "metadata": {},
     "output_type": "execute_result"
    }
   ],
   "source": [
    "# escalamos las columnas para obtener mejor resultado\n",
    "scaler.fit(X)"
   ]
  },
  {
   "cell_type": "code",
   "execution_count": 59,
   "id": "02297352",
   "metadata": {},
   "outputs": [],
   "source": [
    "X_esc=scaler.transform(X)"
   ]
  },
  {
   "cell_type": "code",
   "execution_count": 60,
   "id": "fd7eb27b",
   "metadata": {},
   "outputs": [],
   "source": [
    "X_train, X_test, Y_train, Y_test = train_test_split(X_esc, Y,train_size=.8)"
   ]
  },
  {
   "cell_type": "markdown",
   "id": "8a41a8b4",
   "metadata": {},
   "source": [
    "### Random Forest"
   ]
  },
  {
   "cell_type": "code",
   "execution_count": 61,
   "id": "ad8a2867",
   "metadata": {},
   "outputs": [],
   "source": [
    "RFG=RandomForestRegressor(max_depth=4,\n",
    "                          n_estimators=200,\n",
    "                          )"
   ]
  },
  {
   "cell_type": "code",
   "execution_count": 62,
   "id": "86e9ab91",
   "metadata": {},
   "outputs": [
    {
     "data": {
      "text/plain": [
       "RandomForestRegressor(max_depth=4, n_estimators=200)"
      ]
     },
     "execution_count": 62,
     "metadata": {},
     "output_type": "execute_result"
    }
   ],
   "source": [
    "RFG.fit(X_train,Y_train)"
   ]
  },
  {
   "cell_type": "code",
   "execution_count": 63,
   "id": "19b5a5fd",
   "metadata": {},
   "outputs": [],
   "source": [
    "Y_pred=RFG.predict(X_test)"
   ]
  },
  {
   "cell_type": "code",
   "execution_count": 64,
   "id": "a0e438d6",
   "metadata": {},
   "outputs": [
    {
     "name": "stdout",
     "output_type": "stream",
     "text": [
      "Mean Absolute Error: 40217.17181793291\n",
      "Mean Squared Error: 3661340321.041189\n",
      "Root Mean Squared Error: 60509.010246749116\n"
     ]
    }
   ],
   "source": [
    "print('Mean Absolute Error:', metrics.mean_absolute_error(Y_test, Y_pred))\n",
    "print('Mean Squared Error:', metrics.mean_squared_error(Y_test, Y_pred))\n",
    "print('Root Mean Squared Error:', np.sqrt(metrics.mean_squared_error(Y_test, Y_pred)))"
   ]
  },
  {
   "cell_type": "code",
   "execution_count": 26,
   "id": "108006d3",
   "metadata": {},
   "outputs": [
    {
     "data": {
      "text/html": [
       "<div>\n",
       "<style scoped>\n",
       "    .dataframe tbody tr th:only-of-type {\n",
       "        vertical-align: middle;\n",
       "    }\n",
       "\n",
       "    .dataframe tbody tr th {\n",
       "        vertical-align: top;\n",
       "    }\n",
       "\n",
       "    .dataframe thead th {\n",
       "        text-align: right;\n",
       "    }\n",
       "</style>\n",
       "<table border=\"1\" class=\"dataframe\">\n",
       "  <thead>\n",
       "    <tr style=\"text-align: right;\">\n",
       "      <th></th>\n",
       "      <th>Feature importance</th>\n",
       "    </tr>\n",
       "  </thead>\n",
       "  <tbody>\n",
       "    <tr>\n",
       "      <th>surface_covered</th>\n",
       "      <td>0.740055</td>\n",
       "    </tr>\n",
       "    <tr>\n",
       "      <th>surface_total</th>\n",
       "      <td>0.143137</td>\n",
       "    </tr>\n",
       "    <tr>\n",
       "      <th>sup_verde/sup</th>\n",
       "      <td>0.085745</td>\n",
       "    </tr>\n",
       "    <tr>\n",
       "      <th>lat</th>\n",
       "      <td>0.012473</td>\n",
       "    </tr>\n",
       "    <tr>\n",
       "      <th>bathrooms</th>\n",
       "      <td>0.011717</td>\n",
       "    </tr>\n",
       "    <tr>\n",
       "      <th>lon</th>\n",
       "      <td>0.006873</td>\n",
       "    </tr>\n",
       "    <tr>\n",
       "      <th>bedrooms</th>\n",
       "      <td>0.000000</td>\n",
       "    </tr>\n",
       "  </tbody>\n",
       "</table>\n",
       "</div>"
      ],
      "text/plain": [
       "                 Feature importance\n",
       "surface_covered            0.740055\n",
       "surface_total              0.143137\n",
       "sup_verde/sup              0.085745\n",
       "lat                        0.012473\n",
       "bathrooms                  0.011717\n",
       "lon                        0.006873\n",
       "bedrooms                   0.000000"
      ]
     },
     "execution_count": 26,
     "metadata": {},
     "output_type": "execute_result"
    }
   ],
   "source": [
    "# vemos la importancia de los distintas caracteristicas\n",
    "importancia_variables=pd.DataFrame(RFG.feature_importances_,\n",
    "             index=['lat','lon','bedrooms','bathrooms','surface_total','surface_covered','sup_verde/sup'],\n",
    "            columns=['Feature importance']).sort_values(['Feature importance'],ascending=False)\n",
    "importancia_variables"
   ]
  },
  {
   "cell_type": "markdown",
   "id": "0144f9d6",
   "metadata": {},
   "source": [
    "### Supported Vector Machines"
   ]
  },
  {
   "cell_type": "code",
   "execution_count": 126,
   "id": "1b515a7c",
   "metadata": {},
   "outputs": [],
   "source": [
    "# elegimos el kernel de la maquina de soporte vectorial\n",
    "SVR = SVR(kernel=\"poly\", C=100, gamma=\"auto\", degree=3, epsilon=0.1, coef0=1)\n"
   ]
  },
  {
   "cell_type": "code",
   "execution_count": 127,
   "id": "15ed928b",
   "metadata": {},
   "outputs": [
    {
     "data": {
      "text/plain": [
       "SVR(C=100, coef0=1, gamma='auto', kernel='poly')"
      ]
     },
     "execution_count": 127,
     "metadata": {},
     "output_type": "execute_result"
    }
   ],
   "source": [
    "# entrenamos el modelo - OJO CON EL TIEMPO DE EJECUCION\n",
    "SVR.fit(X_train,Y_train)"
   ]
  },
  {
   "cell_type": "code",
   "execution_count": 128,
   "id": "e96e13d9",
   "metadata": {},
   "outputs": [],
   "source": [
    "# vemos las predicciones\n",
    "Y_pred=SVR.predict(X_test)"
   ]
  },
  {
   "cell_type": "code",
   "execution_count": 129,
   "id": "e9a9368c",
   "metadata": {
    "scrolled": true
   },
   "outputs": [
    {
     "name": "stdout",
     "output_type": "stream",
     "text": [
      "Mean Absolute Error: 47967.181818081524\n",
      "Mean Squared Error: 10255224930.094873\n",
      "Root Mean Squared Error: 101268.08445949234\n"
     ]
    }
   ],
   "source": [
    "# vemos las metricas\n",
    "print('Mean Absolute Error:', metrics.mean_absolute_error(Y_test, Y_pred))\n",
    "print('Mean Squared Error:', metrics.mean_squared_error(Y_test, Y_pred))\n",
    "print('Root Mean Squared Error:', np.sqrt(metrics.mean_squared_error(Y_test, Y_pred)))"
   ]
  },
  {
   "cell_type": "markdown",
   "id": "0bec07c2",
   "metadata": {},
   "source": [
    "### Vecinos cercanos "
   ]
  },
  {
   "cell_type": "code",
   "execution_count": 72,
   "id": "52b43f90",
   "metadata": {},
   "outputs": [],
   "source": [
    "X_train, X_test, Y_train, Y_test = train_test_split(X_esc, Y,train_size=.8)"
   ]
  },
  {
   "cell_type": "code",
   "execution_count": 73,
   "id": "7a69bbc1",
   "metadata": {},
   "outputs": [],
   "source": [
    "KNNR =KNeighborsRegressor(n_neighbors=1,algorithm='auto')"
   ]
  },
  {
   "cell_type": "code",
   "execution_count": 74,
   "id": "970d5ad5",
   "metadata": {},
   "outputs": [
    {
     "data": {
      "text/plain": [
       "KNeighborsRegressor(n_neighbors=1)"
      ]
     },
     "execution_count": 74,
     "metadata": {},
     "output_type": "execute_result"
    }
   ],
   "source": [
    "KNNR.fit(X_train,Y_train)"
   ]
  },
  {
   "cell_type": "code",
   "execution_count": 75,
   "id": "4a9a62a3",
   "metadata": {},
   "outputs": [],
   "source": [
    "Y_pred=KNNR.predict(X_test)"
   ]
  },
  {
   "cell_type": "code",
   "execution_count": 76,
   "id": "0dfd2888",
   "metadata": {},
   "outputs": [
    {
     "name": "stdout",
     "output_type": "stream",
     "text": [
      "Mean Absolute Error: 26364.80415608713\n",
      "Mean Squared Error: 2608251929.940198\n",
      "Root Mean Squared Error: 51071.04786412942\n"
     ]
    }
   ],
   "source": [
    "# vemos las metricas\n",
    "print('Mean Absolute Error:', metrics.mean_absolute_error(Y_test, Y_pred))\n",
    "print('Mean Squared Error:', metrics.mean_squared_error(Y_test, Y_pred))\n",
    "print('Root Mean Squared Error:', np.sqrt(metrics.mean_squared_error(Y_test, Y_pred)))"
   ]
  },
  {
   "cell_type": "code",
   "execution_count": 77,
   "id": "f5c67699",
   "metadata": {},
   "outputs": [],
   "source": [
    "def KNNR(long):\n",
    "    corrida= []\n",
    "    MAE= []\n",
    "    RMSE=[]\n",
    "\n",
    "    for i in range(0,long):\n",
    "        X_train, X_test, Y_train, Y_test = train_test_split(X_esc, Y,train_size=.8)\n",
    "        KNNR =KNeighborsRegressor(n_neighbors=1,algorithm='auto')\n",
    "        KNNR.fit(X_train,Y_train)\n",
    "        Y_pred=KNNR.predict(X_test)\n",
    "        corrida.append(i)\n",
    "        MAE.append(metrics.mean_absolute_error(Y_test, Y_pred))\n",
    "        RMSE.append(np.sqrt(metrics.mean_squared_error(Y_test, Y_pred)))\n",
    "    \n",
    "    return corrida, MAE, RMSE"
   ]
  },
  {
   "cell_type": "code",
   "execution_count": 78,
   "id": "7c3fcc37",
   "metadata": {},
   "outputs": [],
   "source": [
    "resultados_KNNR=KNNR(1000)"
   ]
  },
  {
   "cell_type": "code",
   "execution_count": 90,
   "id": "c6fc541a",
   "metadata": {},
   "outputs": [],
   "source": [
    "resultados_KNNR=pd.DataFrame(resultados_KNNR).T\n",
    "resultados_KNNR.columns=['corrida', 'MAE', 'RMSE']"
   ]
  },
  {
   "cell_type": "code",
   "execution_count": 91,
   "id": "3e3f1ce0",
   "metadata": {},
   "outputs": [],
   "source": [
    "resultados_KNNR.to_csv('resultados_KNNR.csv')"
   ]
  },
  {
   "cell_type": "code",
   "execution_count": 92,
   "id": "6269030d",
   "metadata": {},
   "outputs": [
    {
     "data": {
      "image/png": "[encoded data removed]",
      "text/plain": [
       "<Figure size 720x720 with 1 Axes>"
      ]
     },
     "metadata": {
      "needs_background": "light"
     },
     "output_type": "display_data"
    }
   ],
   "source": [
    "plt.figure(figsize=(10,10))\n",
    "\n",
    "sns.histplot(resultados_KNNR['MAE'])\n",
    "\n",
    "plt.savefig('histograma - MAE')\n",
    "plt.show()"
   ]
  },
  {
   "cell_type": "code",
   "execution_count": 93,
   "id": "22bca8cf",
   "metadata": {},
   "outputs": [
    {
     "data": {
      "text/plain": [
       "26176.754703060305"
      ]
     },
     "execution_count": 93,
     "metadata": {},
     "output_type": "execute_result"
    }
   ],
   "source": [
    "np.mean(resultados_KNNR['MAE']) "
   ]
  },
  {
   "cell_type": "code",
   "execution_count": 94,
   "id": "713fdc56",
   "metadata": {},
   "outputs": [
    {
     "data": {
      "text/plain": [
       "26178.72571161299"
      ]
     },
     "execution_count": 94,
     "metadata": {},
     "output_type": "execute_result"
    }
   ],
   "source": [
    "np.median(resultados_KNNR['MAE'])"
   ]
  },
  {
   "cell_type": "code",
   "execution_count": 95,
   "id": "97456eb7",
   "metadata": {},
   "outputs": [
    {
     "data": {
      "text/plain": [
       "183362.03954454942"
      ]
     },
     "execution_count": 95,
     "metadata": {},
     "output_type": "execute_result"
    }
   ],
   "source": [
    "np.mean(data_final['price'])"
   ]
  },
  {
   "cell_type": "code",
   "execution_count": 96,
   "id": "7f5543f7",
   "metadata": {},
   "outputs": [
    {
     "data": {
      "text/plain": [
       "140000.0"
      ]
     },
     "execution_count": 96,
     "metadata": {},
     "output_type": "execute_result"
    }
   ],
   "source": [
    "np.median(data_final['price'])"
   ]
  },
  {
   "cell_type": "code",
   "execution_count": 99,
   "id": "f827e5a5",
   "metadata": {},
   "outputs": [
    {
     "data": {
      "text/plain": [
       "14.28"
      ]
     },
     "execution_count": 99,
     "metadata": {},
     "output_type": "execute_result"
    }
   ],
   "source": [
    "round(np.mean(resultados_KNNR['MAE'])/np.mean(data_final['price'])*100,2)"
   ]
  },
  {
   "cell_type": "code",
   "execution_count": 100,
   "id": "7ebf54af",
   "metadata": {},
   "outputs": [
    {
     "data": {
      "text/plain": [
       "18.7"
      ]
     },
     "execution_count": 100,
     "metadata": {},
     "output_type": "execute_result"
    }
   ],
   "source": [
    "round(np.median(resultados_KNNR['MAE'])/np.median(data_final['price'])*100,2)"
   ]
  }
 ],
 "metadata": {
  "kernelspec": {
   "display_name": "Python 3 (ipykernel)",
   "language": "python",
   "name": "python3"
  },
  "language_info": {
   "codemirror_mode": {
    "name": "ipython",
    "version": 3
   },
   "file_extension": ".py",
   "mimetype": "text/x-python",
   "name": "python",
   "nbconvert_exporter": "python",
   "pygments_lexer": "ipython3",
   "version": "3.9.7"
  }
 },
 "nbformat": 4,
 "nbformat_minor": 5
}
